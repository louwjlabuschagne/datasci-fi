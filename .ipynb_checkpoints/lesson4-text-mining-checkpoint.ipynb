{
 "cells": [
  {
   "cell_type": "markdown",
   "metadata": {},
   "source": [
    "# Lesson 4 // Text mining"
   ]
  },
  {
   "cell_type": "markdown",
   "metadata": {},
   "source": [
    "---\n",
    "This notebook is the first of three notebooks on the analysis of text data, or text mining. Over the three notebooks we'll look at a selection of methods for examining text data, manipulating it into different forms, and extracting insight from it. We will mainly be using the **tidytext** package in R, which in the words of the authors of the package was developed\n",
    "\n",
    "> \"... because we were familiar with many methods for data wrangling and visualization, but couldn’t easily apply these same methods to text. We found that using tidy data principles can make many text mining tasks easier, more effective, and consistent with tools already in wide use. Treating text as data frames of individual words allows us to manipulate, summarize, and visualize the characteristics of text easily and integrate natural language processing into effective workflows we were already using.\"\n",
    "\n",
    "This first notebook is mainly about manipulating text data and using fairly simple summaries to extract meaning. In particular in this notebook we will:\n",
    "\n",
    "1. Introduce \"tidy\" data principles and see how to make data tidy with the `gather()` and `spread()` functions from the **tidyr** package.\n",
    "2. See how the **tidytext** package applies tidy data principles to text via the `unnest_tokens()` function.\n",
    "3. Extract summaries from text data and examine if these are changing over time.\n",
    "4. Introduce n-grams and show what the effect is of using different values of \"n\".\n",
    "5. Build a simple text generator (a model that generates text).\n",
    "\n",
    "The material in this workbook is based on:\n",
    "* [Chapter 12](http://r4ds.had.co.nz/tidy-data.html) of R4DS, which covers tidy data and the **tidyr** package.\n",
    "* [Chapter 1](http://tidytextmining.com/tidytext.html) and [Chapter 7](http://tidytextmining.com/twitter.html) of TMR. \n",
    "* Chapter 20 of [Data Science from Scratch](http://shop.oreilly.com/product/0636920033400.do) covers natural language processing, and the text generation section borrows from that chapter.\n",
    "\n",
    "---"
   ]
  },
  {
   "cell_type": "markdown",
   "metadata": {},
   "source": [
    "First load the required packages for this notebook."
   ]
  },
  {
   "cell_type": "code",
   "execution_count": 1,
   "metadata": {},
   "outputs": [
    {
     "name": "stderr",
     "output_type": "stream",
     "text": [
      "Loading tidyverse: ggplot2\n",
      "Loading tidyverse: tibble\n",
      "Loading tidyverse: tidyr\n",
      "Loading tidyverse: readr\n",
      "Loading tidyverse: purrr\n",
      "Loading tidyverse: dplyr\n",
      "Conflicts with tidy packages ---------------------------------------------------\n",
      "filter(): dplyr, stats\n",
      "lag():    dplyr, stats\n",
      "\n",
      "Attaching package: ‘lubridate’\n",
      "\n",
      "The following object is masked from ‘package:base’:\n",
      "\n",
      "    date\n",
      "\n",
      "Loading required package: RColorBrewer\n"
     ]
    }
   ],
   "source": [
    "library(tidyverse)\n",
    "library(tidytext)\n",
    "library(stringr)\n",
    "library(lubridate)\n",
    "library(wordcloud)\n",
    "\n",
    "options(repr.plot.width=4, repr.plot.height=3) # set plot size in the notebook"
   ]
  },
  {
   "cell_type": "markdown",
   "metadata": {},
   "source": [
    "In this and the following workbooks we'll be using a dataset containing all of Donald Trump's tweets. An up-to-date archive of his tweets is maintained [here](https://github.com/bpb27/trump_tweet_data_archive) (refreshed hourly). These can be downloaded as zipped JSON files. I have stored these tweets (to 18 August 2017) as an .RData file. If you want to update the file, you can download the `condensed_20xx.json.zip` files and use the code below.  "
   ]
  },
  {
   "cell_type": "markdown",
   "metadata": {},
   "source": [
    "```\n",
    "library(jsonlite)\n",
    "\n",
    "tweets <- data.frame()    \n",
    "for(i in 2009:2017){\n",
    "    x <- fromJSON(txt=paste0(\"data/condensed_\",i,\".json\"),simplifyDataFrame = T)\n",
    "    tweets <- rbind.data.frame(tweets, x)\n",
    "}\n",
    "rm(x)\n",
    "    \n",
    "save(tweets,file=\"data/trump-tweets.RData\")    \n",
    "```"
   ]
  },
  {
   "cell_type": "markdown",
   "metadata": {},
   "source": [
    "We load the data, which consists of a single data frame called `tweets`, and examine the contents:"
   ]
  },
  {
   "cell_type": "code",
   "execution_count": 14,
   "metadata": {},
   "outputs": [
    {
     "name": "stdout",
     "output_type": "stream",
     "text": [
      "'data.frame':\t31633 obs. of  8 variables:\n",
      " $ source                 : chr  \"Twitter Web Client\" \"Twitter Web Client\" \"Twitter Web Client\" \"Twitter Web Client\" ...\n",
      " $ id_str                 : chr  \"6971079756\" \"6312794445\" \"6090839867\" \"5775731054\" ...\n",
      " $ text                   : chr  \"From Donald Trump: Wishing everyone a wonderful holiday & a happy, healthy, prosperous New Year. Let’s think like champions in \"| __truncated__ \"Trump International Tower in Chicago ranked 6th tallest building in world by Council on Tall Buildings & Urban Habitat http://b\"| __truncated__ \"Wishing you and yours a very Happy and Bountiful Thanksgiving!\" \"Donald Trump Partners with TV1 on New Reality Series Entitled, Omarosa's Ultimate Merger: http://tinyurl.com/yk5m3lc\" ...\n",
      " $ created_at             : chr  \"Wed Dec 23 17:38:18 +0000 2009\" \"Thu Dec 03 19:39:09 +0000 2009\" \"Thu Nov 26 19:55:38 +0000 2009\" \"Mon Nov 16 21:06:10 +0000 2009\" ...\n",
      " $ retweet_count          : int  28 33 13 5 7 4 2 4 1 23 ...\n",
      " $ in_reply_to_user_id_str: chr  NA NA NA NA ...\n",
      " $ favorite_count         : int  12 6 11 3 6 5 2 10 4 30 ...\n",
      " $ is_retweet             : logi  FALSE FALSE FALSE FALSE FALSE FALSE ...\n"
     ]
    }
   ],
   "source": [
    "load(\"data/trump-tweets.RData\")\n",
    "str(tweets)"
   ]
  },
  {
   "cell_type": "markdown",
   "metadata": {},
   "source": [
    "We'll start by turning the data frame into a tibble, and turning the date into a format that will be easier to work with later on. We use the `parse_datetime()` function from the **lubridate** package. The package is a Hadley Wickham one but not part of the core tidyverse. We probably won't have time to look into processing dates and times in this course, but if you are interested the relevant chapter of R4DS is [here](http://r4ds.had.co.nz/dates-and-times.html)."
   ]
  },
  {
   "cell_type": "code",
   "execution_count": 15,
   "metadata": {},
   "outputs": [
    {
     "data": {
      "text/plain": [
       "[1] \"2009-12-23 17:38:18 UTC\""
      ]
     },
     "metadata": {},
     "output_type": "display_data"
    }
   ],
   "source": [
    "# turn into a tibble\n",
    "tweets <- as.tibble(tweets)\n",
    "# parse the date\n",
    "tweets <- tweets %>% mutate(date = parse_datetime(str_sub(tweets$created_at,5,30), \"%b %d %H:%M:%S %z %Y\"))\n",
    "tweets$date[1]"
   ]
  },
  {
   "cell_type": "markdown",
   "metadata": {},
   "source": [
    "Once the dates and times have been appropriately parsed we can perform various operations on them. For example, below we work out the earlier and latest tweets in the dataset, and the duration of time covered by the dataset."
   ]
  },
  {
   "cell_type": "code",
   "execution_count": 16,
   "metadata": {},
   "outputs": [
    {
     "data": {
      "text/plain": [
       "[1] \"2009-05-04 18:54:25 UTC\""
      ]
     },
     "metadata": {},
     "output_type": "display_data"
    },
    {
     "data": {
      "text/plain": [
       "[1] \"2017-08-18 15:28:52 UTC\""
      ]
     },
     "metadata": {},
     "output_type": "display_data"
    },
    {
     "data": {
      "text/plain": [
       "Time difference of 3027.857 days"
      ]
     },
     "metadata": {},
     "output_type": "display_data"
    }
   ],
   "source": [
    "min(tweets$date)\n",
    "max(tweets$date)\n",
    "max(tweets$date) - min(tweets$date)"
   ]
  },
  {
   "cell_type": "markdown",
   "metadata": {},
   "source": [
    "Let's look at a few tweets:"
   ]
  },
  {
   "cell_type": "code",
   "execution_count": 52,
   "metadata": {},
   "outputs": [
    {
     "data": {
      "text/html": [
       "<table>\n",
       "<thead><tr><th scope=col>date</th><th scope=col>text</th></tr></thead>\n",
       "<tbody>\n",
       "\t<tr><td>2016-01-24 22:10:56                                                                                                                         </td><td>\"@NeilTurner_: @realDonaldTrump https://t.co/uvn95NSIaA It's time we take America back! No more puppet presidents! #VoteTrump\" So true!     </td></tr>\n",
       "\t<tr><td>2015-06-16 14:51:37                                                                                                                         </td><td>Thanks Geraldo, you're a champion. https://t.co/APfc0PThCP                                                                                  </td></tr>\n",
       "\t<tr><td>2014-01-29 06:27:38                                                                                                                         </td><td>Snowing in Texas and Louisiana, record setting freezing temperatures throughout the country and beyond. Global warming is an expensive hoax!</td></tr>\n",
       "\t<tr><td>2013-10-28 00:59:08                                                                                                                         </td><td>\"@Doug_E_Fresh2: @realDonaldTrump with you as POTUS we'd probably have a $600,000,000 surplus! #Trump2016\"                                  </td></tr>\n",
       "\t<tr><td>2013-09-27 14:48:19                                                                                                                         </td><td>You have to believe in what you want. Keep your focus, keep your momentum--and remain patient and persistent.                               </td></tr>\n",
       "</tbody>\n",
       "</table>\n"
      ],
      "text/latex": [
       "\\begin{tabular}{r|ll}\n",
       " date & text\\\\\n",
       "\\hline\n",
       "\t 2016-01-24 22:10:56                                                                                                                              & \"@NeilTurner\\_: @realDonaldTrump https://t.co/uvn95NSIaA It's time we take America back! No more puppet presidents! \\#VoteTrump\" So true!     \\\\\n",
       "\t 2015-06-16 14:51:37                                                                                                                          & Thanks Geraldo, you're a champion. https://t.co/APfc0PThCP                                                                                  \\\\\n",
       "\t 2014-01-29 06:27:38                                                                                                                          & Snowing in Texas and Louisiana, record setting freezing temperatures throughout the country and beyond. Global warming is an expensive hoax!\\\\\n",
       "\t 2013-10-28 00:59:08                                                                                                                                  & \"@Doug\\_E\\_Fresh2: @realDonaldTrump with you as POTUS we'd probably have a \\$600,000,000 surplus! \\#Trump2016\"                                  \\\\\n",
       "\t 2013-09-27 14:48:19                                                                                                                          & You have to believe in what you want. Keep your focus, keep your momentum--and remain patient and persistent.                               \\\\\n",
       "\\end{tabular}\n"
      ],
      "text/markdown": [
       "\n",
       "date | text | \n",
       "|---|---|---|---|---|\n",
       "| 2016-01-24 22:10:56                                                                                                                          | \"@NeilTurner_: @realDonaldTrump https://t.co/uvn95NSIaA It's time we take America back! No more puppet presidents! #VoteTrump\" So true!      | \n",
       "| 2015-06-16 14:51:37                                                                                                                          | Thanks Geraldo, you're a champion. https://t.co/APfc0PThCP                                                                                   | \n",
       "| 2014-01-29 06:27:38                                                                                                                          | Snowing in Texas and Louisiana, record setting freezing temperatures throughout the country and beyond. Global warming is an expensive hoax! | \n",
       "| 2013-10-28 00:59:08                                                                                                                          | \"@Doug_E_Fresh2: @realDonaldTrump with you as POTUS we'd probably have a $600,000,000 surplus! #Trump2016\"                                   | \n",
       "| 2013-09-27 14:48:19                                                                                                                          | You have to believe in what you want. Keep your focus, keep your momentum--and remain patient and persistent.                                | \n",
       "\n",
       "\n"
      ],
      "text/plain": [
       "  date               \n",
       "1 2016-01-24 22:10:56\n",
       "2 2015-06-16 14:51:37\n",
       "3 2014-01-29 06:27:38\n",
       "4 2013-10-28 00:59:08\n",
       "5 2013-09-27 14:48:19\n",
       "  text                                                                                                                                        \n",
       "1 \"@NeilTurner_: @realDonaldTrump https://t.co/uvn95NSIaA It's time we take America back! No more puppet presidents! #VoteTrump\" So true!     \n",
       "2 Thanks Geraldo, you're a champion. https://t.co/APfc0PThCP                                                                                  \n",
       "3 Snowing in Texas and Louisiana, record setting freezing temperatures throughout the country and beyond. Global warming is an expensive hoax!\n",
       "4 \"@Doug_E_Fresh2: @realDonaldTrump with you as POTUS we'd probably have a $600,000,000 surplus! #Trump2016\"                                  \n",
       "5 You have to believe in what you want. Keep your focus, keep your momentum--and remain patient and persistent.                               "
      ]
     },
     "metadata": {},
     "output_type": "display_data"
    }
   ],
   "source": [
    "set.seed(2)\n",
    "sample_tweets <- tweets %>% sample_n(5) %>% select(date,text)\n",
    "sample_tweets %>% arrange(desc(date))"
   ]
  },
  {
   "cell_type": "markdown",
   "metadata": {},
   "source": [
    "We start by plotting the number of tweets Trump has made over time. Retweets are shown in blue."
   ]
  },
  {
   "cell_type": "code",
   "execution_count": 18,
   "metadata": {},
   "outputs": [
    {
     "data": {},
     "metadata": {},
     "output_type": "display_data"
    },
    {
     "data": {
      "image/png": "[encoded data removed]",
      "text/plain": [
       "plot without title"
      ]
     },
     "metadata": {},
     "output_type": "display_data"
    }
   ],
   "source": [
    "ggplot(tweets, aes(x = date, fill = is_retweet)) +\n",
    "  geom_histogram(position = \"identity\", bins = 101, show.legend = TRUE)"
   ]
  },
  {
   "cell_type": "markdown",
   "metadata": {},
   "source": [
    "You'll see from the few example tweets above that tweets have a particular format, but that that format is quite hard to pin down. There are special characters like `@` and `#` that mean something, some tweets have links while others do not, some are a single sentence and others are several, some mention people by name, and so on. How are we going to structure this data in a meaningful way?\n",
    "\n",
    "To answer this question, we're going to go back a bit and talk about \"tidy\" data. "
   ]
  },
  {
   "cell_type": "markdown",
   "metadata": {},
   "source": [
    "## Tidy data\n",
    "\n",
    "Tidy data is basically just a way of consistently organizing your data that often makes subsequent analysis easier, particularly if you are using **tidyverse** packages. Tidy data has three requirements:\n",
    "\n",
    "* Each variable has its own column.\n",
    "* Each observation has its own row.\n",
    "* Each value has its own cell.\n",
    "\n",
    "This only really makes sense once you work out what the variables and observations are. Of course you can't define a variable as \"what's in a column\", or all data will be tidy! For example, suppose we have the following data frame, containing movie ratings for 3 users and 4 movies:"
   ]
  },
  {
   "cell_type": "code",
   "execution_count": 19,
   "metadata": {},
   "outputs": [
    {
     "data": {
      "text/html": [
       "<table>\n",
       "<thead><tr><th scope=col>user_id</th><th scope=col>age</th><th scope=col>city</th><th scope=col>movie1</th><th scope=col>movie2</th><th scope=col>movie3</th></tr></thead>\n",
       "<tbody>\n",
       "\t<tr><td>1  </td><td>49 </td><td>Cpt</td><td> 5 </td><td>NA </td><td>NA </td></tr>\n",
       "\t<tr><td>2  </td><td>20 </td><td>Cpt</td><td> 3 </td><td> 3 </td><td> 1 </td></tr>\n",
       "\t<tr><td>3  </td><td>30 </td><td>Jhb</td><td>NA </td><td> 5 </td><td> 1 </td></tr>\n",
       "</tbody>\n",
       "</table>\n"
      ],
      "text/latex": [
       "\\begin{tabular}{r|llllll}\n",
       " user\\_id & age & city & movie1 & movie2 & movie3\\\\\n",
       "\\hline\n",
       "\t 1   & 49  & Cpt &  5  & NA  & NA \\\\\n",
       "\t 2   & 20  & Cpt &  3  &  3  &  1 \\\\\n",
       "\t 3   & 30  & Jhb & NA  &  5  &  1 \\\\\n",
       "\\end{tabular}\n"
      ],
      "text/markdown": [
       "\n",
       "user_id | age | city | movie1 | movie2 | movie3 | \n",
       "|---|---|---|\n",
       "| 1   | 49  | Cpt |  5  | NA  | NA  | \n",
       "| 2   | 20  | Cpt |  3  |  3  |  1  | \n",
       "| 3   | 30  | Jhb | NA  |  5  |  1  | \n",
       "\n",
       "\n"
      ],
      "text/plain": [
       "  user_id age city movie1 movie2 movie3\n",
       "1 1       49  Cpt   5     NA     NA    \n",
       "2 2       20  Cpt   3      3      1    \n",
       "3 3       30  Jhb  NA      5      1    "
      ]
     },
     "metadata": {},
     "output_type": "display_data"
    }
   ],
   "source": [
    "untidy_ratings <- tribble(\n",
    "  ~user_id, ~age, ~city, ~movie1, ~movie2, ~movie3,\n",
    "  1, 49, \"Cpt\", 5, NA, NA,\n",
    "  2, 20, \"Cpt\", 3, 3, 1, \n",
    "  3, 30, \"Jhb\", NA, 5, 1\n",
    ")\n",
    "untidy_ratings "
   ]
  },
  {
   "cell_type": "markdown",
   "metadata": {},
   "source": [
    "This data frame is not tidy because movie ratings are spread across multiple columns. \n",
    "\n",
    "The \"tidy\" way to think about this data is that the variables are the `user_id`, the user's demographic variables (`age`, `city`), the `title` of the movie, and the `rating` given. At the moment some column names (`movie1`, `movie2`, `movie3`) are actually *values* of the variable. This is a common problem with untidy data. The observations in this case are user-movie combinations.\n",
    "\n",
    "Note that this isn't to say that \"untidy\" data is never useful - in fact, we used data in just the format above when building recommender systems. But there are advantages to working with tidy data, especially if you are using packages from the tidyverse.\n",
    "\n",
    "To make the data frame tidy, we use the `gather()` function from the **tidyr** package, which provides a number of functions for getting data into (and out of) tidy format."
   ]
  },
  {
   "cell_type": "code",
   "execution_count": 20,
   "metadata": {},
   "outputs": [
    {
     "data": {
      "text/html": [
       "<table>\n",
       "<thead><tr><th scope=col>user_id</th><th scope=col>age</th><th scope=col>city</th><th scope=col>title</th><th scope=col>rating</th></tr></thead>\n",
       "<tbody>\n",
       "\t<tr><td>1     </td><td>49    </td><td>Cpt   </td><td>movie1</td><td> 5    </td></tr>\n",
       "\t<tr><td>2     </td><td>20    </td><td>Cpt   </td><td>movie1</td><td> 3    </td></tr>\n",
       "\t<tr><td>3     </td><td>30    </td><td>Jhb   </td><td>movie1</td><td>NA    </td></tr>\n",
       "\t<tr><td>1     </td><td>49    </td><td>Cpt   </td><td>movie2</td><td>NA    </td></tr>\n",
       "\t<tr><td>2     </td><td>20    </td><td>Cpt   </td><td>movie2</td><td> 3    </td></tr>\n",
       "\t<tr><td>3     </td><td>30    </td><td>Jhb   </td><td>movie2</td><td> 5    </td></tr>\n",
       "\t<tr><td>1     </td><td>49    </td><td>Cpt   </td><td>movie3</td><td>NA    </td></tr>\n",
       "\t<tr><td>2     </td><td>20    </td><td>Cpt   </td><td>movie3</td><td> 1    </td></tr>\n",
       "\t<tr><td>3     </td><td>30    </td><td>Jhb   </td><td>movie3</td><td> 1    </td></tr>\n",
       "</tbody>\n",
       "</table>\n"
      ],
      "text/latex": [
       "\\begin{tabular}{r|lllll}\n",
       " user\\_id & age & city & title & rating\\\\\n",
       "\\hline\n",
       "\t 1      & 49     & Cpt    & movie1 &  5    \\\\\n",
       "\t 2      & 20     & Cpt    & movie1 &  3    \\\\\n",
       "\t 3      & 30     & Jhb    & movie1 & NA    \\\\\n",
       "\t 1      & 49     & Cpt    & movie2 & NA    \\\\\n",
       "\t 2      & 20     & Cpt    & movie2 &  3    \\\\\n",
       "\t 3      & 30     & Jhb    & movie2 &  5    \\\\\n",
       "\t 1      & 49     & Cpt    & movie3 & NA    \\\\\n",
       "\t 2      & 20     & Cpt    & movie3 &  1    \\\\\n",
       "\t 3      & 30     & Jhb    & movie3 &  1    \\\\\n",
       "\\end{tabular}\n"
      ],
      "text/markdown": [
       "\n",
       "user_id | age | city | title | rating | \n",
       "|---|---|---|---|---|---|---|---|---|\n",
       "| 1      | 49     | Cpt    | movie1 |  5     | \n",
       "| 2      | 20     | Cpt    | movie1 |  3     | \n",
       "| 3      | 30     | Jhb    | movie1 | NA     | \n",
       "| 1      | 49     | Cpt    | movie2 | NA     | \n",
       "| 2      | 20     | Cpt    | movie2 |  3     | \n",
       "| 3      | 30     | Jhb    | movie2 |  5     | \n",
       "| 1      | 49     | Cpt    | movie3 | NA     | \n",
       "| 2      | 20     | Cpt    | movie3 |  1     | \n",
       "| 3      | 30     | Jhb    | movie3 |  1     | \n",
       "\n",
       "\n"
      ],
      "text/plain": [
       "  user_id age city title  rating\n",
       "1 1       49  Cpt  movie1  5    \n",
       "2 2       20  Cpt  movie1  3    \n",
       "3 3       30  Jhb  movie1 NA    \n",
       "4 1       49  Cpt  movie2 NA    \n",
       "5 2       20  Cpt  movie2  3    \n",
       "6 3       30  Jhb  movie2  5    \n",
       "7 1       49  Cpt  movie3 NA    \n",
       "8 2       20  Cpt  movie3  1    \n",
       "9 3       30  Jhb  movie3  1    "
      ]
     },
     "metadata": {},
     "output_type": "display_data"
    }
   ],
   "source": [
    "tidy_ratings <- untidy_ratings %>% gather(movie1,movie2,movie3, key = \"title\", value = \"rating\")\n",
    "tidy_ratings"
   ]
  },
  {
   "cell_type": "markdown",
   "metadata": {},
   "source": [
    "This data frame shows all user-movie combinations. Those observations with no rating (because the user has not seen the movie) are given an `NA`. We say that missing values are *explicitly* represented. Another way of representing missing values is to omit the corresponding observation from the data frame. This is an *implicit* representation of a missing value. To use the implicit representation we just set `na.rm = TRUE` when using `gather()`."
   ]
  },
  {
   "cell_type": "code",
   "execution_count": 21,
   "metadata": {},
   "outputs": [
    {
     "data": {
      "text/html": [
       "<table>\n",
       "<thead><tr><th></th><th scope=col>user_id</th><th scope=col>age</th><th scope=col>city</th><th scope=col>title</th><th scope=col>rating</th></tr></thead>\n",
       "<tbody>\n",
       "\t<tr><th scope=row>1</th><td>1     </td><td>49    </td><td>Cpt   </td><td>movie1</td><td>5     </td></tr>\n",
       "\t<tr><th scope=row>2</th><td>2     </td><td>20    </td><td>Cpt   </td><td>movie1</td><td>3     </td></tr>\n",
       "\t<tr><th scope=row>5</th><td>2     </td><td>20    </td><td>Cpt   </td><td>movie2</td><td>3     </td></tr>\n",
       "\t<tr><th scope=row>6</th><td>3     </td><td>30    </td><td>Jhb   </td><td>movie2</td><td>5     </td></tr>\n",
       "\t<tr><th scope=row>8</th><td>2     </td><td>20    </td><td>Cpt   </td><td>movie3</td><td>1     </td></tr>\n",
       "\t<tr><th scope=row>9</th><td>3     </td><td>30    </td><td>Jhb   </td><td>movie3</td><td>1     </td></tr>\n",
       "</tbody>\n",
       "</table>\n"
      ],
      "text/latex": [
       "\\begin{tabular}{r|lllll}\n",
       "  & user\\_id & age & city & title & rating\\\\\n",
       "\\hline\n",
       "\t1 & 1      & 49     & Cpt    & movie1 & 5     \\\\\n",
       "\t2 & 2      & 20     & Cpt    & movie1 & 3     \\\\\n",
       "\t5 & 2      & 20     & Cpt    & movie2 & 3     \\\\\n",
       "\t6 & 3      & 30     & Jhb    & movie2 & 5     \\\\\n",
       "\t8 & 2      & 20     & Cpt    & movie3 & 1     \\\\\n",
       "\t9 & 3      & 30     & Jhb    & movie3 & 1     \\\\\n",
       "\\end{tabular}\n"
      ],
      "text/markdown": [
       "\n",
       "| <!--/--> | user_id | age | city | title | rating | \n",
       "|---|---|---|---|---|---|\n",
       "| 1 | 1      | 49     | Cpt    | movie1 | 5      | \n",
       "| 2 | 2      | 20     | Cpt    | movie1 | 3      | \n",
       "| 5 | 2      | 20     | Cpt    | movie2 | 3      | \n",
       "| 6 | 3      | 30     | Jhb    | movie2 | 5      | \n",
       "| 8 | 2      | 20     | Cpt    | movie3 | 1      | \n",
       "| 9 | 3      | 30     | Jhb    | movie3 | 1      | \n",
       "\n",
       "\n"
      ],
      "text/plain": [
       "  user_id age city title  rating\n",
       "1 1       49  Cpt  movie1 5     \n",
       "2 2       20  Cpt  movie1 3     \n",
       "5 2       20  Cpt  movie2 3     \n",
       "6 3       30  Jhb  movie2 5     \n",
       "8 2       20  Cpt  movie3 1     \n",
       "9 3       30  Jhb  movie3 1     "
      ]
     },
     "metadata": {},
     "output_type": "display_data"
    }
   ],
   "source": [
    "tidy_ratings_imp <- untidy_ratings %>% gather(movie1,movie2,movie3, key = \"title\", value = \"rating\", na.rm = TRUE)\n",
    "tidy_ratings_imp"
   ]
  },
  {
   "cell_type": "markdown",
   "metadata": {},
   "source": [
    "We can move back to an explicit representation of missing values using the `complete()` function. Note that we have to tell the `complete()` function that `age` and `city` do not vary over individual, and we do this using the `nesting()` command (because age and city are \"nested within\" user). "
   ]
  },
  {
   "cell_type": "code",
   "execution_count": 24,
   "metadata": {},
   "outputs": [
    {
     "data": {
      "text/html": [
       "<table>\n",
       "<thead><tr><th scope=col>user_id</th><th scope=col>age</th><th scope=col>city</th><th scope=col>title</th><th scope=col>rating</th></tr></thead>\n",
       "<tbody>\n",
       "\t<tr><td>1     </td><td>49    </td><td>Cpt   </td><td>movie1</td><td> 5    </td></tr>\n",
       "\t<tr><td>1     </td><td>49    </td><td>Cpt   </td><td>movie2</td><td>NA    </td></tr>\n",
       "\t<tr><td>1     </td><td>49    </td><td>Cpt   </td><td>movie3</td><td>NA    </td></tr>\n",
       "\t<tr><td>2     </td><td>20    </td><td>Cpt   </td><td>movie1</td><td> 3    </td></tr>\n",
       "\t<tr><td>2     </td><td>20    </td><td>Cpt   </td><td>movie2</td><td> 3    </td></tr>\n",
       "\t<tr><td>2     </td><td>20    </td><td>Cpt   </td><td>movie3</td><td> 1    </td></tr>\n",
       "\t<tr><td>3     </td><td>30    </td><td>Jhb   </td><td>movie1</td><td>NA    </td></tr>\n",
       "\t<tr><td>3     </td><td>30    </td><td>Jhb   </td><td>movie2</td><td> 5    </td></tr>\n",
       "\t<tr><td>3     </td><td>30    </td><td>Jhb   </td><td>movie3</td><td> 1    </td></tr>\n",
       "</tbody>\n",
       "</table>\n"
      ],
      "text/latex": [
       "\\begin{tabular}{r|lllll}\n",
       " user\\_id & age & city & title & rating\\\\\n",
       "\\hline\n",
       "\t 1      & 49     & Cpt    & movie1 &  5    \\\\\n",
       "\t 1      & 49     & Cpt    & movie2 & NA    \\\\\n",
       "\t 1      & 49     & Cpt    & movie3 & NA    \\\\\n",
       "\t 2      & 20     & Cpt    & movie1 &  3    \\\\\n",
       "\t 2      & 20     & Cpt    & movie2 &  3    \\\\\n",
       "\t 2      & 20     & Cpt    & movie3 &  1    \\\\\n",
       "\t 3      & 30     & Jhb    & movie1 & NA    \\\\\n",
       "\t 3      & 30     & Jhb    & movie2 &  5    \\\\\n",
       "\t 3      & 30     & Jhb    & movie3 &  1    \\\\\n",
       "\\end{tabular}\n"
      ],
      "text/markdown": [
       "\n",
       "user_id | age | city | title | rating | \n",
       "|---|---|---|---|---|---|---|---|---|\n",
       "| 1      | 49     | Cpt    | movie1 |  5     | \n",
       "| 1      | 49     | Cpt    | movie2 | NA     | \n",
       "| 1      | 49     | Cpt    | movie3 | NA     | \n",
       "| 2      | 20     | Cpt    | movie1 |  3     | \n",
       "| 2      | 20     | Cpt    | movie2 |  3     | \n",
       "| 2      | 20     | Cpt    | movie3 |  1     | \n",
       "| 3      | 30     | Jhb    | movie1 | NA     | \n",
       "| 3      | 30     | Jhb    | movie2 |  5     | \n",
       "| 3      | 30     | Jhb    | movie3 |  1     | \n",
       "\n",
       "\n"
      ],
      "text/plain": [
       "  user_id age city title  rating\n",
       "1 1       49  Cpt  movie1  5    \n",
       "2 1       49  Cpt  movie2 NA    \n",
       "3 1       49  Cpt  movie3 NA    \n",
       "4 2       20  Cpt  movie1  3    \n",
       "5 2       20  Cpt  movie2  3    \n",
       "6 2       20  Cpt  movie3  1    \n",
       "7 3       30  Jhb  movie1 NA    \n",
       "8 3       30  Jhb  movie2  5    \n",
       "9 3       30  Jhb  movie3  1    "
      ]
     },
     "metadata": {},
     "output_type": "display_data"
    }
   ],
   "source": [
    "tidy_ratings_imp %>% complete(nesting(user_id, age, city), title)\n",
    "\n",
    "# try these:\n",
    "# tidy_ratings_imp %>% complete(c(user_id, age, city), title)  # crossed, not nested, will look for all combos\n",
    "# tidy_ratings_imp %>% complete(user_id, title) # will treat like rating i.e. will have NAs"
   ]
  },
  {
   "cell_type": "markdown",
   "metadata": {},
   "source": [
    "We can move in the opposite direction (spreading a variable across multiple columns) using the `spread()` function."
   ]
  },
  {
   "cell_type": "code",
   "execution_count": 25,
   "metadata": {},
   "outputs": [
    {
     "data": {
      "text/html": [
       "<table>\n",
       "<thead><tr><th scope=col>user_id</th><th scope=col>age</th><th scope=col>city</th><th scope=col>movie1</th><th scope=col>movie2</th><th scope=col>movie3</th></tr></thead>\n",
       "<tbody>\n",
       "\t<tr><td>1  </td><td>49 </td><td>Cpt</td><td> 5 </td><td>NA </td><td>NA </td></tr>\n",
       "\t<tr><td>2  </td><td>20 </td><td>Cpt</td><td> 3 </td><td> 3 </td><td> 1 </td></tr>\n",
       "\t<tr><td>3  </td><td>30 </td><td>Jhb</td><td>NA </td><td> 5 </td><td> 1 </td></tr>\n",
       "</tbody>\n",
       "</table>\n"
      ],
      "text/latex": [
       "\\begin{tabular}{r|llllll}\n",
       " user\\_id & age & city & movie1 & movie2 & movie3\\\\\n",
       "\\hline\n",
       "\t 1   & 49  & Cpt &  5  & NA  & NA \\\\\n",
       "\t 2   & 20  & Cpt &  3  &  3  &  1 \\\\\n",
       "\t 3   & 30  & Jhb & NA  &  5  &  1 \\\\\n",
       "\\end{tabular}\n"
      ],
      "text/markdown": [
       "\n",
       "user_id | age | city | movie1 | movie2 | movie3 | \n",
       "|---|---|---|\n",
       "| 1   | 49  | Cpt |  5  | NA  | NA  | \n",
       "| 2   | 20  | Cpt |  3  |  3  |  1  | \n",
       "| 3   | 30  | Jhb | NA  |  5  |  1  | \n",
       "\n",
       "\n"
      ],
      "text/plain": [
       "  user_id age city movie1 movie2 movie3\n",
       "1 1       49  Cpt   5     NA     NA    \n",
       "2 2       20  Cpt   3      3      1    \n",
       "3 3       30  Jhb  NA      5      1    "
      ]
     },
     "metadata": {},
     "output_type": "display_data"
    }
   ],
   "source": [
    "untidy_ratings <- tidy_ratings %>% spread(key = \"title\", value = \"rating\")\n",
    "untidy_ratings"
   ]
  },
  {
   "cell_type": "markdown",
   "metadata": {},
   "source": [
    "Note that its not always the case that a \"long\" data format is tidy and a \"wide\" format is not. For example, the data frame below is tidy. \n",
    "```\n",
    "# A tibble: 6 x 4\n",
    "   town month avgtemp rainfall\n",
    "  <chr> <chr>   <dbl>    <dbl>\n",
    "1     A   Jan      24       12\n",
    "2     B   Jan      27       10\n",
    "3     C   Jan      30       16\n",
    "4     A   Jun      14       22\n",
    "5     B   Jun      20       62\n",
    "6     C   Jun       5       16\n",
    "```\n",
    "but it would not be tidy if we reshape the data into a \"longer\" format:\n",
    "```\n",
    "# A tibble: 12 x 4\n",
    "    town month  weather    value\n",
    "   <chr> <chr>    <chr>    <dbl>\n",
    " 1     A   Jan  avgtemp       24\n",
    " 2     B   Jan  avgtemp       27\n",
    " 3     C   Jan  avgtemp       30\n",
    " 4     A   Jun  avgtemp       14\n",
    " 5     B   Jun  avgtemp       20\n",
    " 6     C   Jun  avgtemp        5\n",
    " 7     A   Jan rainfall       32\n",
    " 8     B   Jan rainfall       30\n",
    " 9     C   Jan rainfall       36\n",
    "10     A   Jun rainfall       22\n",
    "11     B   Jun rainfall       22\n",
    "12     C   Jun rainfall       16\n",
    "```\n",
    "There are several more examples in [Chapter 12](http://r4ds.had.co.nz/tidy-data.html) of R4DS, which covers tidy data and the **tidyr** package."
   ]
  },
  {
   "cell_type": "markdown",
   "metadata": {},
   "source": [
    "## Tidy text data\n",
    "\n",
    "Tidy text is defined by the authors of **tidytext** as \"a table with one-token-per-row\" (see [Chapter 1](http://tidytextmining.com/tidytext.html) of TMR). A *token* is a whatever unit of text is meaningful for your analysis: it could be a word, a word pair, a sentence, a paragraph, a chapter, whatever. \n",
    "\n",
    "That means that the process of getting text data tidy is largely a matter of \n",
    "\n",
    "1. Deciding what the level of the analysis is going to be - what the \"token\" is.\n",
    "2. Splitting the text into tokens, a process called *tokenization*.\n",
    "\n",
    "We're now going to look in more detail at tokenization."
   ]
  },
  {
   "cell_type": "markdown",
   "metadata": {},
   "source": [
    "## Tokenization with `unnest_tokens()`\n",
    "\n",
    "Tokenization is the process of splitting text up into the units that we are interested in analyzing. The `unnest_tokens()` function performs tokenization by splitting text up into the required tokens, and creating a new data frame with one token per row i.e. tidy text data.\n",
    "\n",
    "Suppose we want to analyze the individual words Trump uses in his tweets. We do this by `unnest_tokens(tweets, word, text, token = \"words\")`. Note the arguments passed to `unnest_tokens()`:\n",
    "\n",
    "* the \"messy\" data frame containing the text (`tweets`)\n",
    "* the variable name we want to use for the tokens in the new tidy data frame (`word`)\n",
    "* the variable name where the text is stored in the \"messy\" data frame (`text` i.e. the tweets are in `tweets$text`)\n",
    "* the unit of tokenization (`token=\"words\"`)"
   ]
  },
  {
   "cell_type": "code",
   "execution_count": 28,
   "metadata": {},
   "outputs": [
    {
     "data": {
      "text/html": [
       "<table>\n",
       "<thead><tr><th scope=col>date</th><th scope=col>text</th></tr></thead>\n",
       "<tbody>\n",
       "\t<tr><td>2013-09-27 14:48:19                                                                                                                         </td><td>You have to believe in what you want. Keep your focus, keep your momentum--and remain patient and persistent.                               </td></tr>\n",
       "\t<tr><td>2015-06-16 14:51:37                                                                                                                         </td><td>Thanks Geraldo, you're a champion. https://t.co/APfc0PThCP                                                                                  </td></tr>\n",
       "\t<tr><td>2014-01-29 06:27:38                                                                                                                         </td><td>Snowing in Texas and Louisiana, record setting freezing temperatures throughout the country and beyond. Global warming is an expensive hoax!</td></tr>\n",
       "\t<tr><td>2013-10-28 00:59:08                                                                                                                         </td><td>\"@Doug_E_Fresh2: @realDonaldTrump with you as POTUS we'd probably have a $600,000,000 surplus! #Trump2016\"                                  </td></tr>\n",
       "\t<tr><td>2016-01-24 22:10:56                                                                                                                         </td><td>\"@NeilTurner_: @realDonaldTrump https://t.co/uvn95NSIaA It's time we take America back! No more puppet presidents! #VoteTrump\" So true!     </td></tr>\n",
       "</tbody>\n",
       "</table>\n"
      ],
      "text/latex": [
       "\\begin{tabular}{r|ll}\n",
       " date & text\\\\\n",
       "\\hline\n",
       "\t 2013-09-27 14:48:19                                                                                                                          & You have to believe in what you want. Keep your focus, keep your momentum--and remain patient and persistent.                               \\\\\n",
       "\t 2015-06-16 14:51:37                                                                                                                          & Thanks Geraldo, you're a champion. https://t.co/APfc0PThCP                                                                                  \\\\\n",
       "\t 2014-01-29 06:27:38                                                                                                                          & Snowing in Texas and Louisiana, record setting freezing temperatures throughout the country and beyond. Global warming is an expensive hoax!\\\\\n",
       "\t 2013-10-28 00:59:08                                                                                                                                  & \"@Doug\\_E\\_Fresh2: @realDonaldTrump with you as POTUS we'd probably have a \\$600,000,000 surplus! \\#Trump2016\"                                  \\\\\n",
       "\t 2016-01-24 22:10:56                                                                                                                              & \"@NeilTurner\\_: @realDonaldTrump https://t.co/uvn95NSIaA It's time we take America back! No more puppet presidents! \\#VoteTrump\" So true!     \\\\\n",
       "\\end{tabular}\n"
      ],
      "text/markdown": [
       "\n",
       "date | text | \n",
       "|---|---|---|---|---|\n",
       "| 2013-09-27 14:48:19                                                                                                                          | You have to believe in what you want. Keep your focus, keep your momentum--and remain patient and persistent.                                | \n",
       "| 2015-06-16 14:51:37                                                                                                                          | Thanks Geraldo, you're a champion. https://t.co/APfc0PThCP                                                                                   | \n",
       "| 2014-01-29 06:27:38                                                                                                                          | Snowing in Texas and Louisiana, record setting freezing temperatures throughout the country and beyond. Global warming is an expensive hoax! | \n",
       "| 2013-10-28 00:59:08                                                                                                                          | \"@Doug_E_Fresh2: @realDonaldTrump with you as POTUS we'd probably have a $600,000,000 surplus! #Trump2016\"                                   | \n",
       "| 2016-01-24 22:10:56                                                                                                                          | \"@NeilTurner_: @realDonaldTrump https://t.co/uvn95NSIaA It's time we take America back! No more puppet presidents! #VoteTrump\" So true!      | \n",
       "\n",
       "\n"
      ],
      "text/plain": [
       "  date               \n",
       "1 2013-09-27 14:48:19\n",
       "2 2015-06-16 14:51:37\n",
       "3 2014-01-29 06:27:38\n",
       "4 2013-10-28 00:59:08\n",
       "5 2016-01-24 22:10:56\n",
       "  text                                                                                                                                        \n",
       "1 You have to believe in what you want. Keep your focus, keep your momentum--and remain patient and persistent.                               \n",
       "2 Thanks Geraldo, you're a champion. https://t.co/APfc0PThCP                                                                                  \n",
       "3 Snowing in Texas and Louisiana, record setting freezing temperatures throughout the country and beyond. Global warming is an expensive hoax!\n",
       "4 \"@Doug_E_Fresh2: @realDonaldTrump with you as POTUS we'd probably have a $600,000,000 surplus! #Trump2016\"                                  \n",
       "5 \"@NeilTurner_: @realDonaldTrump https://t.co/uvn95NSIaA It's time we take America back! No more puppet presidents! #VoteTrump\" So true!     "
      ]
     },
     "metadata": {},
     "output_type": "display_data"
    }
   ],
   "source": [
    "sample_tweets"
   ]
  },
  {
   "cell_type": "code",
   "execution_count": 29,
   "metadata": {
    "collapsed": true
   },
   "outputs": [],
   "source": [
    "?unnest_tokens"
   ]
  },
  {
   "cell_type": "code",
   "execution_count": 30,
   "metadata": {},
   "outputs": [
    {
     "data": {
      "text/html": [
       "<table>\n",
       "<thead><tr><th scope=col>date</th><th scope=col>word</th></tr></thead>\n",
       "<tbody>\n",
       "\t<tr><td>2013-09-27 14:48:19</td><td>you                </td></tr>\n",
       "\t<tr><td>2013-09-27 14:48:19</td><td>have               </td></tr>\n",
       "\t<tr><td>2013-09-27 14:48:19</td><td>to                 </td></tr>\n",
       "\t<tr><td>2013-09-27 14:48:19</td><td>believe            </td></tr>\n",
       "\t<tr><td>2013-09-27 14:48:19</td><td>in                 </td></tr>\n",
       "\t<tr><td>2013-09-27 14:48:19</td><td>what               </td></tr>\n",
       "\t<tr><td>2013-09-27 14:48:19</td><td>you                </td></tr>\n",
       "\t<tr><td>2013-09-27 14:48:19</td><td>want               </td></tr>\n",
       "\t<tr><td>2013-09-27 14:48:19</td><td>keep               </td></tr>\n",
       "\t<tr><td>2013-09-27 14:48:19</td><td>your               </td></tr>\n",
       "\t<tr><td>2013-09-27 14:48:19</td><td>focus              </td></tr>\n",
       "\t<tr><td>2013-09-27 14:48:19</td><td>keep               </td></tr>\n",
       "\t<tr><td>2013-09-27 14:48:19</td><td>your               </td></tr>\n",
       "\t<tr><td>2013-09-27 14:48:19</td><td>momentum           </td></tr>\n",
       "\t<tr><td>2013-09-27 14:48:19</td><td>and                </td></tr>\n",
       "\t<tr><td>2013-09-27 14:48:19</td><td>remain             </td></tr>\n",
       "\t<tr><td>2013-09-27 14:48:19</td><td>patient            </td></tr>\n",
       "\t<tr><td>2013-09-27 14:48:19</td><td>and                </td></tr>\n",
       "\t<tr><td>2013-09-27 14:48:19</td><td>persistent         </td></tr>\n",
       "\t<tr><td>2015-06-16 14:51:37</td><td>thanks             </td></tr>\n",
       "\t<tr><td>2015-06-16 14:51:37</td><td>geraldo            </td></tr>\n",
       "\t<tr><td>2015-06-16 14:51:37</td><td>you're             </td></tr>\n",
       "\t<tr><td>2015-06-16 14:51:37</td><td>a                  </td></tr>\n",
       "\t<tr><td>2015-06-16 14:51:37</td><td>champion           </td></tr>\n",
       "\t<tr><td>2015-06-16 14:51:37</td><td>https              </td></tr>\n",
       "\t<tr><td>2015-06-16 14:51:37</td><td>t                  </td></tr>\n",
       "\t<tr><td>2015-06-16 14:51:37</td><td>co                 </td></tr>\n",
       "\t<tr><td>2015-06-16 14:51:37</td><td>apfc0pthcp         </td></tr>\n",
       "\t<tr><td>2014-01-29 06:27:38</td><td>snowing            </td></tr>\n",
       "\t<tr><td>2014-01-29 06:27:38</td><td>in                 </td></tr>\n",
       "\t<tr><td>⋮</td><td>⋮</td></tr>\n",
       "\t<tr><td>2013-10-28 00:59:08</td><td>with               </td></tr>\n",
       "\t<tr><td>2013-10-28 00:59:08</td><td>you                </td></tr>\n",
       "\t<tr><td>2013-10-28 00:59:08</td><td>as                 </td></tr>\n",
       "\t<tr><td>2013-10-28 00:59:08</td><td>potus              </td></tr>\n",
       "\t<tr><td>2013-10-28 00:59:08</td><td>we'd               </td></tr>\n",
       "\t<tr><td>2013-10-28 00:59:08</td><td>probably           </td></tr>\n",
       "\t<tr><td>2013-10-28 00:59:08</td><td>have               </td></tr>\n",
       "\t<tr><td>2013-10-28 00:59:08</td><td>a                  </td></tr>\n",
       "\t<tr><td>2013-10-28 00:59:08</td><td>600,000,000        </td></tr>\n",
       "\t<tr><td>2013-10-28 00:59:08</td><td>surplus            </td></tr>\n",
       "\t<tr><td>2013-10-28 00:59:08</td><td>trump2016          </td></tr>\n",
       "\t<tr><td>2016-01-24 22:10:56</td><td>neilturner_        </td></tr>\n",
       "\t<tr><td>2016-01-24 22:10:56</td><td>realdonaldtrump    </td></tr>\n",
       "\t<tr><td>2016-01-24 22:10:56</td><td>https              </td></tr>\n",
       "\t<tr><td>2016-01-24 22:10:56</td><td>t                  </td></tr>\n",
       "\t<tr><td>2016-01-24 22:10:56</td><td>co                 </td></tr>\n",
       "\t<tr><td>2016-01-24 22:10:56</td><td>uvn95nsiaa         </td></tr>\n",
       "\t<tr><td>2016-01-24 22:10:56</td><td>it's               </td></tr>\n",
       "\t<tr><td>2016-01-24 22:10:56</td><td>time               </td></tr>\n",
       "\t<tr><td>2016-01-24 22:10:56</td><td>we                 </td></tr>\n",
       "\t<tr><td>2016-01-24 22:10:56</td><td>take               </td></tr>\n",
       "\t<tr><td>2016-01-24 22:10:56</td><td>america            </td></tr>\n",
       "\t<tr><td>2016-01-24 22:10:56</td><td>back               </td></tr>\n",
       "\t<tr><td>2016-01-24 22:10:56</td><td>no                 </td></tr>\n",
       "\t<tr><td>2016-01-24 22:10:56</td><td>more               </td></tr>\n",
       "\t<tr><td>2016-01-24 22:10:56</td><td>puppet             </td></tr>\n",
       "\t<tr><td>2016-01-24 22:10:56</td><td>presidents         </td></tr>\n",
       "\t<tr><td>2016-01-24 22:10:56</td><td>votetrump          </td></tr>\n",
       "\t<tr><td>2016-01-24 22:10:56</td><td>so                 </td></tr>\n",
       "\t<tr><td>2016-01-24 22:10:56</td><td>true               </td></tr>\n",
       "</tbody>\n",
       "</table>\n"
      ],
      "text/latex": [
       "\\begin{tabular}{r|ll}\n",
       " date & word\\\\\n",
       "\\hline\n",
       "\t 2013-09-27 14:48:19 & you                \\\\\n",
       "\t 2013-09-27 14:48:19 & have               \\\\\n",
       "\t 2013-09-27 14:48:19 & to                 \\\\\n",
       "\t 2013-09-27 14:48:19 & believe            \\\\\n",
       "\t 2013-09-27 14:48:19 & in                 \\\\\n",
       "\t 2013-09-27 14:48:19 & what               \\\\\n",
       "\t 2013-09-27 14:48:19 & you                \\\\\n",
       "\t 2013-09-27 14:48:19 & want               \\\\\n",
       "\t 2013-09-27 14:48:19 & keep               \\\\\n",
       "\t 2013-09-27 14:48:19 & your               \\\\\n",
       "\t 2013-09-27 14:48:19 & focus              \\\\\n",
       "\t 2013-09-27 14:48:19 & keep               \\\\\n",
       "\t 2013-09-27 14:48:19 & your               \\\\\n",
       "\t 2013-09-27 14:48:19 & momentum           \\\\\n",
       "\t 2013-09-27 14:48:19 & and                \\\\\n",
       "\t 2013-09-27 14:48:19 & remain             \\\\\n",
       "\t 2013-09-27 14:48:19 & patient            \\\\\n",
       "\t 2013-09-27 14:48:19 & and                \\\\\n",
       "\t 2013-09-27 14:48:19 & persistent         \\\\\n",
       "\t 2015-06-16 14:51:37 & thanks             \\\\\n",
       "\t 2015-06-16 14:51:37 & geraldo            \\\\\n",
       "\t 2015-06-16 14:51:37 & you're             \\\\\n",
       "\t 2015-06-16 14:51:37 & a                  \\\\\n",
       "\t 2015-06-16 14:51:37 & champion           \\\\\n",
       "\t 2015-06-16 14:51:37 & https              \\\\\n",
       "\t 2015-06-16 14:51:37 & t                  \\\\\n",
       "\t 2015-06-16 14:51:37 & co                 \\\\\n",
       "\t 2015-06-16 14:51:37 & apfc0pthcp         \\\\\n",
       "\t 2014-01-29 06:27:38 & snowing            \\\\\n",
       "\t 2014-01-29 06:27:38 & in                 \\\\\n",
       "\t ⋮ & ⋮\\\\\n",
       "\t 2013-10-28 00:59:08 & with               \\\\\n",
       "\t 2013-10-28 00:59:08 & you                \\\\\n",
       "\t 2013-10-28 00:59:08 & as                 \\\\\n",
       "\t 2013-10-28 00:59:08 & potus              \\\\\n",
       "\t 2013-10-28 00:59:08 & we'd               \\\\\n",
       "\t 2013-10-28 00:59:08 & probably           \\\\\n",
       "\t 2013-10-28 00:59:08 & have               \\\\\n",
       "\t 2013-10-28 00:59:08 & a                  \\\\\n",
       "\t 2013-10-28 00:59:08 & 600,000,000        \\\\\n",
       "\t 2013-10-28 00:59:08 & surplus            \\\\\n",
       "\t 2013-10-28 00:59:08 & trump2016          \\\\\n",
       "\t 2016-01-24 22:10:56 & neilturner\\_      \\\\\n",
       "\t 2016-01-24 22:10:56 & realdonaldtrump    \\\\\n",
       "\t 2016-01-24 22:10:56 & https              \\\\\n",
       "\t 2016-01-24 22:10:56 & t                  \\\\\n",
       "\t 2016-01-24 22:10:56 & co                 \\\\\n",
       "\t 2016-01-24 22:10:56 & uvn95nsiaa         \\\\\n",
       "\t 2016-01-24 22:10:56 & it's               \\\\\n",
       "\t 2016-01-24 22:10:56 & time               \\\\\n",
       "\t 2016-01-24 22:10:56 & we                 \\\\\n",
       "\t 2016-01-24 22:10:56 & take               \\\\\n",
       "\t 2016-01-24 22:10:56 & america            \\\\\n",
       "\t 2016-01-24 22:10:56 & back               \\\\\n",
       "\t 2016-01-24 22:10:56 & no                 \\\\\n",
       "\t 2016-01-24 22:10:56 & more               \\\\\n",
       "\t 2016-01-24 22:10:56 & puppet             \\\\\n",
       "\t 2016-01-24 22:10:56 & presidents         \\\\\n",
       "\t 2016-01-24 22:10:56 & votetrump          \\\\\n",
       "\t 2016-01-24 22:10:56 & so                 \\\\\n",
       "\t 2016-01-24 22:10:56 & true               \\\\\n",
       "\\end{tabular}\n"
      ],
      "text/markdown": [
       "\n",
       "date | word | \n",
       "|---|---|---|---|---|---|---|---|---|---|---|---|---|---|---|---|---|---|---|---|---|---|---|---|---|---|---|---|---|---|---|---|---|---|---|---|---|---|---|---|---|---|---|---|---|---|---|---|---|---|---|---|---|---|---|---|---|---|---|---|---|\n",
       "| 2013-09-27 14:48:19 | you                 | \n",
       "| 2013-09-27 14:48:19 | have                | \n",
       "| 2013-09-27 14:48:19 | to                  | \n",
       "| 2013-09-27 14:48:19 | believe             | \n",
       "| 2013-09-27 14:48:19 | in                  | \n",
       "| 2013-09-27 14:48:19 | what                | \n",
       "| 2013-09-27 14:48:19 | you                 | \n",
       "| 2013-09-27 14:48:19 | want                | \n",
       "| 2013-09-27 14:48:19 | keep                | \n",
       "| 2013-09-27 14:48:19 | your                | \n",
       "| 2013-09-27 14:48:19 | focus               | \n",
       "| 2013-09-27 14:48:19 | keep                | \n",
       "| 2013-09-27 14:48:19 | your                | \n",
       "| 2013-09-27 14:48:19 | momentum            | \n",
       "| 2013-09-27 14:48:19 | and                 | \n",
       "| 2013-09-27 14:48:19 | remain              | \n",
       "| 2013-09-27 14:48:19 | patient             | \n",
       "| 2013-09-27 14:48:19 | and                 | \n",
       "| 2013-09-27 14:48:19 | persistent          | \n",
       "| 2015-06-16 14:51:37 | thanks              | \n",
       "| 2015-06-16 14:51:37 | geraldo             | \n",
       "| 2015-06-16 14:51:37 | you're              | \n",
       "| 2015-06-16 14:51:37 | a                   | \n",
       "| 2015-06-16 14:51:37 | champion            | \n",
       "| 2015-06-16 14:51:37 | https               | \n",
       "| 2015-06-16 14:51:37 | t                   | \n",
       "| 2015-06-16 14:51:37 | co                  | \n",
       "| 2015-06-16 14:51:37 | apfc0pthcp          | \n",
       "| 2014-01-29 06:27:38 | snowing             | \n",
       "| 2014-01-29 06:27:38 | in                  | \n",
       "| ⋮ | ⋮ | \n",
       "| 2013-10-28 00:59:08 | with                | \n",
       "| 2013-10-28 00:59:08 | you                 | \n",
       "| 2013-10-28 00:59:08 | as                  | \n",
       "| 2013-10-28 00:59:08 | potus               | \n",
       "| 2013-10-28 00:59:08 | we'd                | \n",
       "| 2013-10-28 00:59:08 | probably            | \n",
       "| 2013-10-28 00:59:08 | have                | \n",
       "| 2013-10-28 00:59:08 | a                   | \n",
       "| 2013-10-28 00:59:08 | 600,000,000         | \n",
       "| 2013-10-28 00:59:08 | surplus             | \n",
       "| 2013-10-28 00:59:08 | trump2016           | \n",
       "| 2016-01-24 22:10:56 | neilturner_         | \n",
       "| 2016-01-24 22:10:56 | realdonaldtrump     | \n",
       "| 2016-01-24 22:10:56 | https               | \n",
       "| 2016-01-24 22:10:56 | t                   | \n",
       "| 2016-01-24 22:10:56 | co                  | \n",
       "| 2016-01-24 22:10:56 | uvn95nsiaa          | \n",
       "| 2016-01-24 22:10:56 | it's                | \n",
       "| 2016-01-24 22:10:56 | time                | \n",
       "| 2016-01-24 22:10:56 | we                  | \n",
       "| 2016-01-24 22:10:56 | take                | \n",
       "| 2016-01-24 22:10:56 | america             | \n",
       "| 2016-01-24 22:10:56 | back                | \n",
       "| 2016-01-24 22:10:56 | no                  | \n",
       "| 2016-01-24 22:10:56 | more                | \n",
       "| 2016-01-24 22:10:56 | puppet              | \n",
       "| 2016-01-24 22:10:56 | presidents          | \n",
       "| 2016-01-24 22:10:56 | votetrump           | \n",
       "| 2016-01-24 22:10:56 | so                  | \n",
       "| 2016-01-24 22:10:56 | true                | \n",
       "\n",
       "\n"
      ],
      "text/plain": [
       "   date                word           \n",
       "1  2013-09-27 14:48:19 you            \n",
       "2  2013-09-27 14:48:19 have           \n",
       "3  2013-09-27 14:48:19 to             \n",
       "4  2013-09-27 14:48:19 believe        \n",
       "5  2013-09-27 14:48:19 in             \n",
       "6  2013-09-27 14:48:19 what           \n",
       "7  2013-09-27 14:48:19 you            \n",
       "8  2013-09-27 14:48:19 want           \n",
       "9  2013-09-27 14:48:19 keep           \n",
       "10 2013-09-27 14:48:19 your           \n",
       "11 2013-09-27 14:48:19 focus          \n",
       "12 2013-09-27 14:48:19 keep           \n",
       "13 2013-09-27 14:48:19 your           \n",
       "14 2013-09-27 14:48:19 momentum       \n",
       "15 2013-09-27 14:48:19 and            \n",
       "16 2013-09-27 14:48:19 remain         \n",
       "17 2013-09-27 14:48:19 patient        \n",
       "18 2013-09-27 14:48:19 and            \n",
       "19 2013-09-27 14:48:19 persistent     \n",
       "20 2015-06-16 14:51:37 thanks         \n",
       "21 2015-06-16 14:51:37 geraldo        \n",
       "22 2015-06-16 14:51:37 you're         \n",
       "23 2015-06-16 14:51:37 a              \n",
       "24 2015-06-16 14:51:37 champion       \n",
       "25 2015-06-16 14:51:37 https          \n",
       "26 2015-06-16 14:51:37 t              \n",
       "27 2015-06-16 14:51:37 co             \n",
       "28 2015-06-16 14:51:37 apfc0pthcp     \n",
       "29 2014-01-29 06:27:38 snowing        \n",
       "30 2014-01-29 06:27:38 in             \n",
       "⋮  ⋮                   ⋮              \n",
       "51 2013-10-28 00:59:08 with           \n",
       "52 2013-10-28 00:59:08 you            \n",
       "53 2013-10-28 00:59:08 as             \n",
       "54 2013-10-28 00:59:08 potus          \n",
       "55 2013-10-28 00:59:08 we'd           \n",
       "56 2013-10-28 00:59:08 probably       \n",
       "57 2013-10-28 00:59:08 have           \n",
       "58 2013-10-28 00:59:08 a              \n",
       "59 2013-10-28 00:59:08 600,000,000    \n",
       "60 2013-10-28 00:59:08 surplus        \n",
       "61 2013-10-28 00:59:08 trump2016      \n",
       "62 2016-01-24 22:10:56 neilturner_    \n",
       "63 2016-01-24 22:10:56 realdonaldtrump\n",
       "64 2016-01-24 22:10:56 https          \n",
       "65 2016-01-24 22:10:56 t              \n",
       "66 2016-01-24 22:10:56 co             \n",
       "67 2016-01-24 22:10:56 uvn95nsiaa     \n",
       "68 2016-01-24 22:10:56 it's           \n",
       "69 2016-01-24 22:10:56 time           \n",
       "70 2016-01-24 22:10:56 we             \n",
       "71 2016-01-24 22:10:56 take           \n",
       "72 2016-01-24 22:10:56 america        \n",
       "73 2016-01-24 22:10:56 back           \n",
       "74 2016-01-24 22:10:56 no             \n",
       "75 2016-01-24 22:10:56 more           \n",
       "76 2016-01-24 22:10:56 puppet         \n",
       "77 2016-01-24 22:10:56 presidents     \n",
       "78 2016-01-24 22:10:56 votetrump      \n",
       "79 2016-01-24 22:10:56 so             \n",
       "80 2016-01-24 22:10:56 true           "
      ]
     },
     "metadata": {},
     "output_type": "display_data"
    }
   ],
   "source": [
    "unnest_tokens(sample_tweets, word, text, token = \"words\")"
   ]
  },
  {
   "cell_type": "markdown",
   "metadata": {},
   "source": [
    "Let's see what happens if we tokenize by sentences:"
   ]
  },
  {
   "cell_type": "code",
   "execution_count": 27,
   "metadata": {},
   "outputs": [
    {
     "data": {
      "text/html": [
       "<table>\n",
       "<thead><tr><th scope=col>date</th><th scope=col>sentences</th></tr></thead>\n",
       "<tbody>\n",
       "\t<tr><td>2013-09-27 14:48:19                                                                                    </td><td>you have to believe in what you want.                                                                  </td></tr>\n",
       "\t<tr><td>2013-09-27 14:48:19                                                                                    </td><td>keep your focus, keep your momentum--and remain patient and persistent.                                </td></tr>\n",
       "\t<tr><td>2013-10-28 00:59:08                                                                                    </td><td>\"@doug_e_fresh2: @realdonaldtrump with you as potus we'd probably have a $600,000,000 surplus!         </td></tr>\n",
       "\t<tr><td>2013-10-28 00:59:08                                                                                    </td><td>#trump2016\"                                                                                            </td></tr>\n",
       "\t<tr><td>2014-01-29 06:27:38                                                                                    </td><td>snowing in texas and louisiana, record setting freezing temperatures throughout the country and beyond.</td></tr>\n",
       "\t<tr><td>2014-01-29 06:27:38                                                                                    </td><td>global warming is an expensive hoax!                                                                   </td></tr>\n",
       "\t<tr><td>2015-06-16 14:51:37                                                                                    </td><td>thanks geraldo, you're a champion. https://t.co/apfc0pthcp                                             </td></tr>\n",
       "\t<tr><td>2016-01-24 22:10:56                                                                                    </td><td>\"@neilturner_: @realdonaldtrump https://t.co/uvn95nsiaa it's time we take america back!                </td></tr>\n",
       "\t<tr><td>2016-01-24 22:10:56                                                                                    </td><td>no more puppet presidents!                                                                             </td></tr>\n",
       "\t<tr><td>2016-01-24 22:10:56                                                                                    </td><td>#votetrump\" so true!                                                                                   </td></tr>\n",
       "</tbody>\n",
       "</table>\n"
      ],
      "text/latex": [
       "\\begin{tabular}{r|ll}\n",
       " date & sentences\\\\\n",
       "\\hline\n",
       "\t 2013-09-27 14:48:19                                                                                     & you have to believe in what you want.                                                                  \\\\\n",
       "\t 2013-09-27 14:48:19                                                                                     & keep your focus, keep your momentum--and remain patient and persistent.                                \\\\\n",
       "\t 2013-10-28 00:59:08                                                                                           & \"@doug\\_e\\_fresh2: @realdonaldtrump with you as potus we'd probably have a \\$600,000,000 surplus!         \\\\\n",
       "\t 2013-10-28 00:59:08                                                                                       & \\#trump2016\"                                                                                            \\\\\n",
       "\t 2014-01-29 06:27:38                                                                                     & snowing in texas and louisiana, record setting freezing temperatures throughout the country and beyond.\\\\\n",
       "\t 2014-01-29 06:27:38                                                                                     & global warming is an expensive hoax!                                                                   \\\\\n",
       "\t 2015-06-16 14:51:37                                                                                     & thanks geraldo, you're a champion. https://t.co/apfc0pthcp                                             \\\\\n",
       "\t 2016-01-24 22:10:56                                                                                       & \"@neilturner\\_: @realdonaldtrump https://t.co/uvn95nsiaa it's time we take america back!                \\\\\n",
       "\t 2016-01-24 22:10:56                                                                                     & no more puppet presidents!                                                                             \\\\\n",
       "\t 2016-01-24 22:10:56                                                                                       & \\#votetrump\" so true!                                                                                   \\\\\n",
       "\\end{tabular}\n"
      ],
      "text/markdown": [
       "\n",
       "date | sentences | \n",
       "|---|---|---|---|---|---|---|---|---|---|\n",
       "| 2013-09-27 14:48:19                                                                                     | you have to believe in what you want.                                                                   | \n",
       "| 2013-09-27 14:48:19                                                                                     | keep your focus, keep your momentum--and remain patient and persistent.                                 | \n",
       "| 2013-10-28 00:59:08                                                                                     | \"@doug_e_fresh2: @realdonaldtrump with you as potus we'd probably have a $600,000,000 surplus!          | \n",
       "| 2013-10-28 00:59:08                                                                                     | #trump2016\"                                                                                             | \n",
       "| 2014-01-29 06:27:38                                                                                     | snowing in texas and louisiana, record setting freezing temperatures throughout the country and beyond. | \n",
       "| 2014-01-29 06:27:38                                                                                     | global warming is an expensive hoax!                                                                    | \n",
       "| 2015-06-16 14:51:37                                                                                     | thanks geraldo, you're a champion. https://t.co/apfc0pthcp                                              | \n",
       "| 2016-01-24 22:10:56                                                                                     | \"@neilturner_: @realdonaldtrump https://t.co/uvn95nsiaa it's time we take america back!                 | \n",
       "| 2016-01-24 22:10:56                                                                                     | no more puppet presidents!                                                                              | \n",
       "| 2016-01-24 22:10:56                                                                                     | #votetrump\" so true!                                                                                    | \n",
       "\n",
       "\n"
      ],
      "text/plain": [
       "   date               \n",
       "1  2013-09-27 14:48:19\n",
       "2  2013-09-27 14:48:19\n",
       "3  2013-10-28 00:59:08\n",
       "4  2013-10-28 00:59:08\n",
       "5  2014-01-29 06:27:38\n",
       "6  2014-01-29 06:27:38\n",
       "7  2015-06-16 14:51:37\n",
       "8  2016-01-24 22:10:56\n",
       "9  2016-01-24 22:10:56\n",
       "10 2016-01-24 22:10:56\n",
       "   sentences                                                                                              \n",
       "1  you have to believe in what you want.                                                                  \n",
       "2  keep your focus, keep your momentum--and remain patient and persistent.                                \n",
       "3  \"@doug_e_fresh2: @realdonaldtrump with you as potus we'd probably have a $600,000,000 surplus!         \n",
       "4  #trump2016\"                                                                                            \n",
       "5  snowing in texas and louisiana, record setting freezing temperatures throughout the country and beyond.\n",
       "6  global warming is an expensive hoax!                                                                   \n",
       "7  thanks geraldo, you're a champion. https://t.co/apfc0pthcp                                             \n",
       "8  \"@neilturner_: @realdonaldtrump https://t.co/uvn95nsiaa it's time we take america back!                \n",
       "9  no more puppet presidents!                                                                             \n",
       "10 #votetrump\" so true!                                                                                   "
      ]
     },
     "metadata": {},
     "output_type": "display_data"
    }
   ],
   "source": [
    "unnest_tokens(sample_tweets, sentences, text, token = \"sentences\") "
   ]
  },
  {
   "cell_type": "markdown",
   "metadata": {},
   "source": [
    "A really nice feature of **tidytext** is that you can tokenize by regular expressions. This gives you a lot of flexibility in deciding what you want a token to constitute. For example, for analyzing tweet data we can explicitly include symbols like `@` and `#` that mean something, and exclude symbols like `?` and `!` that don't add anything (unless we want to include them, in which case we can!)."
   ]
  },
  {
   "cell_type": "code",
   "execution_count": 17,
   "metadata": {},
   "outputs": [
    {
     "data": {
      "text/html": [
       "<table>\n",
       "<thead><tr><th scope=col>date</th><th scope=col>word</th></tr></thead>\n",
       "<tbody>\n",
       "\t<tr><td>2013-09-27 14:48:19</td><td>you                </td></tr>\n",
       "\t<tr><td>2013-09-27 14:48:19</td><td>have               </td></tr>\n",
       "\t<tr><td>2013-09-27 14:48:19</td><td>to                 </td></tr>\n",
       "\t<tr><td>2013-09-27 14:48:19</td><td>believe            </td></tr>\n",
       "\t<tr><td>2013-09-27 14:48:19</td><td>in                 </td></tr>\n",
       "\t<tr><td>2013-09-27 14:48:19</td><td>what               </td></tr>\n",
       "\t<tr><td>2013-09-27 14:48:19</td><td>you                </td></tr>\n",
       "\t<tr><td>2013-09-27 14:48:19</td><td>want               </td></tr>\n",
       "\t<tr><td>2013-09-27 14:48:19</td><td>keep               </td></tr>\n",
       "\t<tr><td>2013-09-27 14:48:19</td><td>your               </td></tr>\n",
       "\t<tr><td>2013-09-27 14:48:19</td><td>focus              </td></tr>\n",
       "\t<tr><td>2013-09-27 14:48:19</td><td>keep               </td></tr>\n",
       "\t<tr><td>2013-09-27 14:48:19</td><td>your               </td></tr>\n",
       "\t<tr><td>2013-09-27 14:48:19</td><td>momentum           </td></tr>\n",
       "\t<tr><td>2013-09-27 14:48:19</td><td>and                </td></tr>\n",
       "\t<tr><td>2013-09-27 14:48:19</td><td>remain             </td></tr>\n",
       "\t<tr><td>2013-09-27 14:48:19</td><td>patient            </td></tr>\n",
       "\t<tr><td>2013-09-27 14:48:19</td><td>and                </td></tr>\n",
       "\t<tr><td>2013-09-27 14:48:19</td><td>persistent         </td></tr>\n",
       "\t<tr><td>2013-10-28 00:59:08</td><td>@doug_e_fresh2     </td></tr>\n",
       "\t<tr><td>2013-10-28 00:59:08</td><td>@realdonaldtrump   </td></tr>\n",
       "\t<tr><td>2013-10-28 00:59:08</td><td>with               </td></tr>\n",
       "\t<tr><td>2013-10-28 00:59:08</td><td>you                </td></tr>\n",
       "\t<tr><td>2013-10-28 00:59:08</td><td>as                 </td></tr>\n",
       "\t<tr><td>2013-10-28 00:59:08</td><td>potus              </td></tr>\n",
       "\t<tr><td>2013-10-28 00:59:08</td><td>we'd               </td></tr>\n",
       "\t<tr><td>2013-10-28 00:59:08</td><td>probably           </td></tr>\n",
       "\t<tr><td>2013-10-28 00:59:08</td><td>have               </td></tr>\n",
       "\t<tr><td>2013-10-28 00:59:08</td><td>a                  </td></tr>\n",
       "\t<tr><td>2013-10-28 00:59:08</td><td>600                </td></tr>\n",
       "\t<tr><td>⋮</td><td>⋮</td></tr>\n",
       "\t<tr><td>2014-01-29 06:27:38</td><td>expensive          </td></tr>\n",
       "\t<tr><td>2014-01-29 06:27:38</td><td>hoax               </td></tr>\n",
       "\t<tr><td>2015-06-16 14:51:37</td><td>thanks             </td></tr>\n",
       "\t<tr><td>2015-06-16 14:51:37</td><td>geraldo            </td></tr>\n",
       "\t<tr><td>2015-06-16 14:51:37</td><td>you're             </td></tr>\n",
       "\t<tr><td>2015-06-16 14:51:37</td><td>a                  </td></tr>\n",
       "\t<tr><td>2015-06-16 14:51:37</td><td>champion           </td></tr>\n",
       "\t<tr><td>2015-06-16 14:51:37</td><td>https              </td></tr>\n",
       "\t<tr><td>2015-06-16 14:51:37</td><td>t                  </td></tr>\n",
       "\t<tr><td>2015-06-16 14:51:37</td><td>co                 </td></tr>\n",
       "\t<tr><td>2015-06-16 14:51:37</td><td>apfc0pthcp         </td></tr>\n",
       "\t<tr><td>2016-01-24 22:10:56</td><td>@neilturner_       </td></tr>\n",
       "\t<tr><td>2016-01-24 22:10:56</td><td>@realdonaldtrump   </td></tr>\n",
       "\t<tr><td>2016-01-24 22:10:56</td><td>https              </td></tr>\n",
       "\t<tr><td>2016-01-24 22:10:56</td><td>t                  </td></tr>\n",
       "\t<tr><td>2016-01-24 22:10:56</td><td>co                 </td></tr>\n",
       "\t<tr><td>2016-01-24 22:10:56</td><td>uvn95nsiaa         </td></tr>\n",
       "\t<tr><td>2016-01-24 22:10:56</td><td>it's               </td></tr>\n",
       "\t<tr><td>2016-01-24 22:10:56</td><td>time               </td></tr>\n",
       "\t<tr><td>2016-01-24 22:10:56</td><td>we                 </td></tr>\n",
       "\t<tr><td>2016-01-24 22:10:56</td><td>take               </td></tr>\n",
       "\t<tr><td>2016-01-24 22:10:56</td><td>america            </td></tr>\n",
       "\t<tr><td>2016-01-24 22:10:56</td><td>back               </td></tr>\n",
       "\t<tr><td>2016-01-24 22:10:56</td><td>no                 </td></tr>\n",
       "\t<tr><td>2016-01-24 22:10:56</td><td>more               </td></tr>\n",
       "\t<tr><td>2016-01-24 22:10:56</td><td>puppet             </td></tr>\n",
       "\t<tr><td>2016-01-24 22:10:56</td><td>presidents         </td></tr>\n",
       "\t<tr><td>2016-01-24 22:10:56</td><td>#votetrump         </td></tr>\n",
       "\t<tr><td>2016-01-24 22:10:56</td><td>so                 </td></tr>\n",
       "\t<tr><td>2016-01-24 22:10:56</td><td>true               </td></tr>\n",
       "</tbody>\n",
       "</table>\n"
      ],
      "text/latex": [
       "\\begin{tabular}{r|ll}\n",
       " date & word\\\\\n",
       "\\hline\n",
       "\t 2013-09-27 14:48:19 & you                \\\\\n",
       "\t 2013-09-27 14:48:19 & have               \\\\\n",
       "\t 2013-09-27 14:48:19 & to                 \\\\\n",
       "\t 2013-09-27 14:48:19 & believe            \\\\\n",
       "\t 2013-09-27 14:48:19 & in                 \\\\\n",
       "\t 2013-09-27 14:48:19 & what               \\\\\n",
       "\t 2013-09-27 14:48:19 & you                \\\\\n",
       "\t 2013-09-27 14:48:19 & want               \\\\\n",
       "\t 2013-09-27 14:48:19 & keep               \\\\\n",
       "\t 2013-09-27 14:48:19 & your               \\\\\n",
       "\t 2013-09-27 14:48:19 & focus              \\\\\n",
       "\t 2013-09-27 14:48:19 & keep               \\\\\n",
       "\t 2013-09-27 14:48:19 & your               \\\\\n",
       "\t 2013-09-27 14:48:19 & momentum           \\\\\n",
       "\t 2013-09-27 14:48:19 & and                \\\\\n",
       "\t 2013-09-27 14:48:19 & remain             \\\\\n",
       "\t 2013-09-27 14:48:19 & patient            \\\\\n",
       "\t 2013-09-27 14:48:19 & and                \\\\\n",
       "\t 2013-09-27 14:48:19 & persistent         \\\\\n",
       "\t 2013-10-28 00:59:08  & @doug\\_e\\_fresh2  \\\\\n",
       "\t 2013-10-28 00:59:08 & @realdonaldtrump   \\\\\n",
       "\t 2013-10-28 00:59:08 & with               \\\\\n",
       "\t 2013-10-28 00:59:08 & you                \\\\\n",
       "\t 2013-10-28 00:59:08 & as                 \\\\\n",
       "\t 2013-10-28 00:59:08 & potus              \\\\\n",
       "\t 2013-10-28 00:59:08 & we'd               \\\\\n",
       "\t 2013-10-28 00:59:08 & probably           \\\\\n",
       "\t 2013-10-28 00:59:08 & have               \\\\\n",
       "\t 2013-10-28 00:59:08 & a                  \\\\\n",
       "\t 2013-10-28 00:59:08 & 600                \\\\\n",
       "\t ⋮ & ⋮\\\\\n",
       "\t 2014-01-29 06:27:38 & expensive          \\\\\n",
       "\t 2014-01-29 06:27:38 & hoax               \\\\\n",
       "\t 2015-06-16 14:51:37 & thanks             \\\\\n",
       "\t 2015-06-16 14:51:37 & geraldo            \\\\\n",
       "\t 2015-06-16 14:51:37 & you're             \\\\\n",
       "\t 2015-06-16 14:51:37 & a                  \\\\\n",
       "\t 2015-06-16 14:51:37 & champion           \\\\\n",
       "\t 2015-06-16 14:51:37 & https              \\\\\n",
       "\t 2015-06-16 14:51:37 & t                  \\\\\n",
       "\t 2015-06-16 14:51:37 & co                 \\\\\n",
       "\t 2015-06-16 14:51:37 & apfc0pthcp         \\\\\n",
       "\t 2016-01-24 22:10:56 & @neilturner\\_     \\\\\n",
       "\t 2016-01-24 22:10:56 & @realdonaldtrump   \\\\\n",
       "\t 2016-01-24 22:10:56 & https              \\\\\n",
       "\t 2016-01-24 22:10:56 & t                  \\\\\n",
       "\t 2016-01-24 22:10:56 & co                 \\\\\n",
       "\t 2016-01-24 22:10:56 & uvn95nsiaa         \\\\\n",
       "\t 2016-01-24 22:10:56 & it's               \\\\\n",
       "\t 2016-01-24 22:10:56 & time               \\\\\n",
       "\t 2016-01-24 22:10:56 & we                 \\\\\n",
       "\t 2016-01-24 22:10:56 & take               \\\\\n",
       "\t 2016-01-24 22:10:56 & america            \\\\\n",
       "\t 2016-01-24 22:10:56 & back               \\\\\n",
       "\t 2016-01-24 22:10:56 & no                 \\\\\n",
       "\t 2016-01-24 22:10:56 & more               \\\\\n",
       "\t 2016-01-24 22:10:56 & puppet             \\\\\n",
       "\t 2016-01-24 22:10:56 & presidents         \\\\\n",
       "\t 2016-01-24 22:10:56 & \\#votetrump       \\\\\n",
       "\t 2016-01-24 22:10:56 & so                 \\\\\n",
       "\t 2016-01-24 22:10:56 & true               \\\\\n",
       "\\end{tabular}\n"
      ],
      "text/markdown": [
       "\n",
       "date | word | \n",
       "|---|---|---|---|---|---|---|---|---|---|---|---|---|---|---|---|---|---|---|---|---|---|---|---|---|---|---|---|---|---|---|---|---|---|---|---|---|---|---|---|---|---|---|---|---|---|---|---|---|---|---|---|---|---|---|---|---|---|---|---|---|\n",
       "| 2013-09-27 14:48:19 | you                 | \n",
       "| 2013-09-27 14:48:19 | have                | \n",
       "| 2013-09-27 14:48:19 | to                  | \n",
       "| 2013-09-27 14:48:19 | believe             | \n",
       "| 2013-09-27 14:48:19 | in                  | \n",
       "| 2013-09-27 14:48:19 | what                | \n",
       "| 2013-09-27 14:48:19 | you                 | \n",
       "| 2013-09-27 14:48:19 | want                | \n",
       "| 2013-09-27 14:48:19 | keep                | \n",
       "| 2013-09-27 14:48:19 | your                | \n",
       "| 2013-09-27 14:48:19 | focus               | \n",
       "| 2013-09-27 14:48:19 | keep                | \n",
       "| 2013-09-27 14:48:19 | your                | \n",
       "| 2013-09-27 14:48:19 | momentum            | \n",
       "| 2013-09-27 14:48:19 | and                 | \n",
       "| 2013-09-27 14:48:19 | remain              | \n",
       "| 2013-09-27 14:48:19 | patient             | \n",
       "| 2013-09-27 14:48:19 | and                 | \n",
       "| 2013-09-27 14:48:19 | persistent          | \n",
       "| 2013-10-28 00:59:08 | @doug_e_fresh2      | \n",
       "| 2013-10-28 00:59:08 | @realdonaldtrump    | \n",
       "| 2013-10-28 00:59:08 | with                | \n",
       "| 2013-10-28 00:59:08 | you                 | \n",
       "| 2013-10-28 00:59:08 | as                  | \n",
       "| 2013-10-28 00:59:08 | potus               | \n",
       "| 2013-10-28 00:59:08 | we'd                | \n",
       "| 2013-10-28 00:59:08 | probably            | \n",
       "| 2013-10-28 00:59:08 | have                | \n",
       "| 2013-10-28 00:59:08 | a                   | \n",
       "| 2013-10-28 00:59:08 | 600                 | \n",
       "| ⋮ | ⋮ | \n",
       "| 2014-01-29 06:27:38 | expensive           | \n",
       "| 2014-01-29 06:27:38 | hoax                | \n",
       "| 2015-06-16 14:51:37 | thanks              | \n",
       "| 2015-06-16 14:51:37 | geraldo             | \n",
       "| 2015-06-16 14:51:37 | you're              | \n",
       "| 2015-06-16 14:51:37 | a                   | \n",
       "| 2015-06-16 14:51:37 | champion            | \n",
       "| 2015-06-16 14:51:37 | https               | \n",
       "| 2015-06-16 14:51:37 | t                   | \n",
       "| 2015-06-16 14:51:37 | co                  | \n",
       "| 2015-06-16 14:51:37 | apfc0pthcp          | \n",
       "| 2016-01-24 22:10:56 | @neilturner_        | \n",
       "| 2016-01-24 22:10:56 | @realdonaldtrump    | \n",
       "| 2016-01-24 22:10:56 | https               | \n",
       "| 2016-01-24 22:10:56 | t                   | \n",
       "| 2016-01-24 22:10:56 | co                  | \n",
       "| 2016-01-24 22:10:56 | uvn95nsiaa          | \n",
       "| 2016-01-24 22:10:56 | it's                | \n",
       "| 2016-01-24 22:10:56 | time                | \n",
       "| 2016-01-24 22:10:56 | we                  | \n",
       "| 2016-01-24 22:10:56 | take                | \n",
       "| 2016-01-24 22:10:56 | america             | \n",
       "| 2016-01-24 22:10:56 | back                | \n",
       "| 2016-01-24 22:10:56 | no                  | \n",
       "| 2016-01-24 22:10:56 | more                | \n",
       "| 2016-01-24 22:10:56 | puppet              | \n",
       "| 2016-01-24 22:10:56 | presidents          | \n",
       "| 2016-01-24 22:10:56 | #votetrump          | \n",
       "| 2016-01-24 22:10:56 | so                  | \n",
       "| 2016-01-24 22:10:56 | true                | \n",
       "\n",
       "\n"
      ],
      "text/plain": [
       "   date                word            \n",
       "1  2013-09-27 14:48:19 you             \n",
       "2  2013-09-27 14:48:19 have            \n",
       "3  2013-09-27 14:48:19 to              \n",
       "4  2013-09-27 14:48:19 believe         \n",
       "5  2013-09-27 14:48:19 in              \n",
       "6  2013-09-27 14:48:19 what            \n",
       "7  2013-09-27 14:48:19 you             \n",
       "8  2013-09-27 14:48:19 want            \n",
       "9  2013-09-27 14:48:19 keep            \n",
       "10 2013-09-27 14:48:19 your            \n",
       "11 2013-09-27 14:48:19 focus           \n",
       "12 2013-09-27 14:48:19 keep            \n",
       "13 2013-09-27 14:48:19 your            \n",
       "14 2013-09-27 14:48:19 momentum        \n",
       "15 2013-09-27 14:48:19 and             \n",
       "16 2013-09-27 14:48:19 remain          \n",
       "17 2013-09-27 14:48:19 patient         \n",
       "18 2013-09-27 14:48:19 and             \n",
       "19 2013-09-27 14:48:19 persistent      \n",
       "20 2013-10-28 00:59:08 @doug_e_fresh2  \n",
       "21 2013-10-28 00:59:08 @realdonaldtrump\n",
       "22 2013-10-28 00:59:08 with            \n",
       "23 2013-10-28 00:59:08 you             \n",
       "24 2013-10-28 00:59:08 as              \n",
       "25 2013-10-28 00:59:08 potus           \n",
       "26 2013-10-28 00:59:08 we'd            \n",
       "27 2013-10-28 00:59:08 probably        \n",
       "28 2013-10-28 00:59:08 have            \n",
       "29 2013-10-28 00:59:08 a               \n",
       "30 2013-10-28 00:59:08 600             \n",
       "⋮  ⋮                   ⋮               \n",
       "53 2014-01-29 06:27:38 expensive       \n",
       "54 2014-01-29 06:27:38 hoax            \n",
       "55 2015-06-16 14:51:37 thanks          \n",
       "56 2015-06-16 14:51:37 geraldo         \n",
       "57 2015-06-16 14:51:37 you're          \n",
       "58 2015-06-16 14:51:37 a               \n",
       "59 2015-06-16 14:51:37 champion        \n",
       "60 2015-06-16 14:51:37 https           \n",
       "61 2015-06-16 14:51:37 t               \n",
       "62 2015-06-16 14:51:37 co              \n",
       "63 2015-06-16 14:51:37 apfc0pthcp      \n",
       "64 2016-01-24 22:10:56 @neilturner_    \n",
       "65 2016-01-24 22:10:56 @realdonaldtrump\n",
       "66 2016-01-24 22:10:56 https           \n",
       "67 2016-01-24 22:10:56 t               \n",
       "68 2016-01-24 22:10:56 co              \n",
       "69 2016-01-24 22:10:56 uvn95nsiaa      \n",
       "70 2016-01-24 22:10:56 it's            \n",
       "71 2016-01-24 22:10:56 time            \n",
       "72 2016-01-24 22:10:56 we              \n",
       "73 2016-01-24 22:10:56 take            \n",
       "74 2016-01-24 22:10:56 america         \n",
       "75 2016-01-24 22:10:56 back            \n",
       "76 2016-01-24 22:10:56 no              \n",
       "77 2016-01-24 22:10:56 more            \n",
       "78 2016-01-24 22:10:56 puppet          \n",
       "79 2016-01-24 22:10:56 presidents      \n",
       "80 2016-01-24 22:10:56 #votetrump      \n",
       "81 2016-01-24 22:10:56 so              \n",
       "82 2016-01-24 22:10:56 true            "
      ]
     },
     "metadata": {},
     "output_type": "display_data"
    }
   ],
   "source": [
    "unnest_tokens(sample_tweets, word, text, token = \"regex\", pattern = \"[^A-Za-z\\\\d_#@']\")"
   ]
  },
  {
   "cell_type": "markdown",
   "metadata": {},
   "source": [
    "We're now in a position to transform the full set of tweets into tidy text format. We'll tokenize with the regular expression we used in the last example above. "
   ]
  },
  {
   "cell_type": "code",
   "execution_count": 31,
   "metadata": {
    "collapsed": true
   },
   "outputs": [],
   "source": [
    "unnest_reg <- \"[^A-Za-z\\\\d_#@']\"\n",
    "\n",
    "tidy_tweets <- tweets %>% \n",
    "  unnest_tokens(word, text, token = \"regex\", pattern = unnest_reg) %>%\n",
    "  select(date, word, favorite_count)"
   ]
  },
  {
   "cell_type": "markdown",
   "metadata": {},
   "source": [
    "Let's plot the most commonly used words:"
   ]
  },
  {
   "cell_type": "code",
   "execution_count": 32,
   "metadata": {},
   "outputs": [
    {
     "data": {},
     "metadata": {},
     "output_type": "display_data"
    },
    {
     "data": {
      "image/png": "[encoded data removed]",
      "text/plain": [
       "plot without title"
      ]
     },
     "metadata": {},
     "output_type": "display_data"
    }
   ],
   "source": [
    "tidy_tweets %>%\n",
    "  count(word, sort = TRUE) %>%\n",
    "  filter(rank(desc(n)) <= 20) %>%\n",
    "  ggplot(aes(reorder(word,n),n)) + geom_col() + coord_flip() + xlab(\"\")"
   ]
  },
  {
   "cell_type": "markdown",
   "metadata": {},
   "source": [
    "Not very useful! What's happening here, unsurprisingly, is that common words like \"the\", \"to\", etc are coming up most often. We can tell **tidytext** to ignore these words (which are called \"stop words\"). Let's have a look at a sample of stop words contained in the dictionary used by **tidytext**:"
   ]
  },
  {
   "cell_type": "code",
   "execution_count": 20,
   "metadata": {},
   "outputs": [
    {
     "data": {
      "text/html": [
       "<ol class=list-inline>\n",
       "\t<li>'across'</li>\n",
       "\t<li>'again'</li>\n",
       "\t<li>'again'</li>\n",
       "\t<li>'allows'</li>\n",
       "\t<li>'almost'</li>\n",
       "\t<li>'amongst'</li>\n",
       "\t<li>'and'</li>\n",
       "\t<li>'as'</li>\n",
       "\t<li>'asks'</li>\n",
       "\t<li>'backed'</li>\n",
       "\t<li>'before'</li>\n",
       "\t<li>'being'</li>\n",
       "\t<li>'better'</li>\n",
       "\t<li>'cant'</li>\n",
       "\t<li>'consider'</li>\n",
       "\t<li>'different'</li>\n",
       "\t<li>'down'</li>\n",
       "\t<li>'eg'</li>\n",
       "\t<li>'f'</li>\n",
       "\t<li>'face'</li>\n",
       "\t<li>'general'</li>\n",
       "\t<li>'gets'</li>\n",
       "\t<li>'getting'</li>\n",
       "\t<li>'gives'</li>\n",
       "\t<li>'gives'</li>\n",
       "\t<li>'good'</li>\n",
       "\t<li>'had'</li>\n",
       "\t<li>'happens'</li>\n",
       "\t<li>'hasn\\'t'</li>\n",
       "\t<li>'herein'</li>\n",
       "\t<li>'hereupon'</li>\n",
       "\t<li>'higher'</li>\n",
       "\t<li>'himself'</li>\n",
       "\t<li>'hither'</li>\n",
       "\t<li>'how'</li>\n",
       "\t<li>'i'</li>\n",
       "\t<li>'i\\'ll'</li>\n",
       "\t<li>'it'</li>\n",
       "\t<li>'it\\'s'</li>\n",
       "\t<li>'it\\'s'</li>\n",
       "\t<li>'itself'</li>\n",
       "\t<li>'kind'</li>\n",
       "\t<li>'less'</li>\n",
       "\t<li>'made'</li>\n",
       "\t<li>'making'</li>\n",
       "\t<li>'me'</li>\n",
       "\t<li>'might'</li>\n",
       "\t<li>'mostly'</li>\n",
       "\t<li>'must'</li>\n",
       "\t<li>'need'</li>\n",
       "\t<li>'new'</li>\n",
       "\t<li>'no'</li>\n",
       "\t<li>'nobody'</li>\n",
       "\t<li>'not'</li>\n",
       "\t<li>'novel'</li>\n",
       "\t<li>'nowhere'</li>\n",
       "\t<li>'number'</li>\n",
       "\t<li>'oh'</li>\n",
       "\t<li>'others'</li>\n",
       "\t<li>'out'</li>\n",
       "\t<li>'perhaps'</li>\n",
       "\t<li>'reasonably'</li>\n",
       "\t<li>'right'</li>\n",
       "\t<li>'says'</li>\n",
       "\t<li>'second'</li>\n",
       "\t<li>'seeming'</li>\n",
       "\t<li>'sees'</li>\n",
       "\t<li>'selves'</li>\n",
       "\t<li>'several'</li>\n",
       "\t<li>'shows'</li>\n",
       "\t<li>'somehow'</li>\n",
       "\t<li>'someone'</li>\n",
       "\t<li>'taken'</li>\n",
       "\t<li>'thanx'</li>\n",
       "\t<li>'the'</li>\n",
       "\t<li>'thence'</li>\n",
       "\t<li>'they\\'d'</li>\n",
       "\t<li>'they\\'ll'</li>\n",
       "\t<li>'think'</li>\n",
       "\t<li>'though'</li>\n",
       "\t<li>'thought'</li>\n",
       "\t<li>'through'</li>\n",
       "\t<li>'through'</li>\n",
       "\t<li>'thru'</li>\n",
       "\t<li>'took'</li>\n",
       "\t<li>'trying'</li>\n",
       "\t<li>'used'</li>\n",
       "\t<li>'very'</li>\n",
       "\t<li>'via'</li>\n",
       "\t<li>'want'</li>\n",
       "\t<li>'wanting'</li>\n",
       "\t<li>'we'</li>\n",
       "\t<li>'what\\'s'</li>\n",
       "\t<li>'when'</li>\n",
       "\t<li>'while'</li>\n",
       "\t<li>'won\\'t'</li>\n",
       "\t<li>'wouldn\\'t'</li>\n",
       "\t<li>'you\\'re'</li>\n",
       "\t<li>'your'</li>\n",
       "\t<li>'yours'</li>\n",
       "</ol>\n"
      ],
      "text/latex": [
       "\\begin{enumerate*}\n",
       "\\item 'across'\n",
       "\\item 'again'\n",
       "\\item 'again'\n",
       "\\item 'allows'\n",
       "\\item 'almost'\n",
       "\\item 'amongst'\n",
       "\\item 'and'\n",
       "\\item 'as'\n",
       "\\item 'asks'\n",
       "\\item 'backed'\n",
       "\\item 'before'\n",
       "\\item 'being'\n",
       "\\item 'better'\n",
       "\\item 'cant'\n",
       "\\item 'consider'\n",
       "\\item 'different'\n",
       "\\item 'down'\n",
       "\\item 'eg'\n",
       "\\item 'f'\n",
       "\\item 'face'\n",
       "\\item 'general'\n",
       "\\item 'gets'\n",
       "\\item 'getting'\n",
       "\\item 'gives'\n",
       "\\item 'gives'\n",
       "\\item 'good'\n",
       "\\item 'had'\n",
       "\\item 'happens'\n",
       "\\item 'hasn\\textbackslash{}'t'\n",
       "\\item 'herein'\n",
       "\\item 'hereupon'\n",
       "\\item 'higher'\n",
       "\\item 'himself'\n",
       "\\item 'hither'\n",
       "\\item 'how'\n",
       "\\item 'i'\n",
       "\\item 'i\\textbackslash{}'ll'\n",
       "\\item 'it'\n",
       "\\item 'it\\textbackslash{}'s'\n",
       "\\item 'it\\textbackslash{}'s'\n",
       "\\item 'itself'\n",
       "\\item 'kind'\n",
       "\\item 'less'\n",
       "\\item 'made'\n",
       "\\item 'making'\n",
       "\\item 'me'\n",
       "\\item 'might'\n",
       "\\item 'mostly'\n",
       "\\item 'must'\n",
       "\\item 'need'\n",
       "\\item 'new'\n",
       "\\item 'no'\n",
       "\\item 'nobody'\n",
       "\\item 'not'\n",
       "\\item 'novel'\n",
       "\\item 'nowhere'\n",
       "\\item 'number'\n",
       "\\item 'oh'\n",
       "\\item 'others'\n",
       "\\item 'out'\n",
       "\\item 'perhaps'\n",
       "\\item 'reasonably'\n",
       "\\item 'right'\n",
       "\\item 'says'\n",
       "\\item 'second'\n",
       "\\item 'seeming'\n",
       "\\item 'sees'\n",
       "\\item 'selves'\n",
       "\\item 'several'\n",
       "\\item 'shows'\n",
       "\\item 'somehow'\n",
       "\\item 'someone'\n",
       "\\item 'taken'\n",
       "\\item 'thanx'\n",
       "\\item 'the'\n",
       "\\item 'thence'\n",
       "\\item 'they\\textbackslash{}'d'\n",
       "\\item 'they\\textbackslash{}'ll'\n",
       "\\item 'think'\n",
       "\\item 'though'\n",
       "\\item 'thought'\n",
       "\\item 'through'\n",
       "\\item 'through'\n",
       "\\item 'thru'\n",
       "\\item 'took'\n",
       "\\item 'trying'\n",
       "\\item 'used'\n",
       "\\item 'very'\n",
       "\\item 'via'\n",
       "\\item 'want'\n",
       "\\item 'wanting'\n",
       "\\item 'we'\n",
       "\\item 'what\\textbackslash{}'s'\n",
       "\\item 'when'\n",
       "\\item 'while'\n",
       "\\item 'won\\textbackslash{}'t'\n",
       "\\item 'wouldn\\textbackslash{}'t'\n",
       "\\item 'you\\textbackslash{}'re'\n",
       "\\item 'your'\n",
       "\\item 'yours'\n",
       "\\end{enumerate*}\n"
      ],
      "text/markdown": [
       "1. 'across'\n",
       "2. 'again'\n",
       "3. 'again'\n",
       "4. 'allows'\n",
       "5. 'almost'\n",
       "6. 'amongst'\n",
       "7. 'and'\n",
       "8. 'as'\n",
       "9. 'asks'\n",
       "10. 'backed'\n",
       "11. 'before'\n",
       "12. 'being'\n",
       "13. 'better'\n",
       "14. 'cant'\n",
       "15. 'consider'\n",
       "16. 'different'\n",
       "17. 'down'\n",
       "18. 'eg'\n",
       "19. 'f'\n",
       "20. 'face'\n",
       "21. 'general'\n",
       "22. 'gets'\n",
       "23. 'getting'\n",
       "24. 'gives'\n",
       "25. 'gives'\n",
       "26. 'good'\n",
       "27. 'had'\n",
       "28. 'happens'\n",
       "29. 'hasn\\'t'\n",
       "30. 'herein'\n",
       "31. 'hereupon'\n",
       "32. 'higher'\n",
       "33. 'himself'\n",
       "34. 'hither'\n",
       "35. 'how'\n",
       "36. 'i'\n",
       "37. 'i\\'ll'\n",
       "38. 'it'\n",
       "39. 'it\\'s'\n",
       "40. 'it\\'s'\n",
       "41. 'itself'\n",
       "42. 'kind'\n",
       "43. 'less'\n",
       "44. 'made'\n",
       "45. 'making'\n",
       "46. 'me'\n",
       "47. 'might'\n",
       "48. 'mostly'\n",
       "49. 'must'\n",
       "50. 'need'\n",
       "51. 'new'\n",
       "52. 'no'\n",
       "53. 'nobody'\n",
       "54. 'not'\n",
       "55. 'novel'\n",
       "56. 'nowhere'\n",
       "57. 'number'\n",
       "58. 'oh'\n",
       "59. 'others'\n",
       "60. 'out'\n",
       "61. 'perhaps'\n",
       "62. 'reasonably'\n",
       "63. 'right'\n",
       "64. 'says'\n",
       "65. 'second'\n",
       "66. 'seeming'\n",
       "67. 'sees'\n",
       "68. 'selves'\n",
       "69. 'several'\n",
       "70. 'shows'\n",
       "71. 'somehow'\n",
       "72. 'someone'\n",
       "73. 'taken'\n",
       "74. 'thanx'\n",
       "75. 'the'\n",
       "76. 'thence'\n",
       "77. 'they\\'d'\n",
       "78. 'they\\'ll'\n",
       "79. 'think'\n",
       "80. 'though'\n",
       "81. 'thought'\n",
       "82. 'through'\n",
       "83. 'through'\n",
       "84. 'thru'\n",
       "85. 'took'\n",
       "86. 'trying'\n",
       "87. 'used'\n",
       "88. 'very'\n",
       "89. 'via'\n",
       "90. 'want'\n",
       "91. 'wanting'\n",
       "92. 'we'\n",
       "93. 'what\\'s'\n",
       "94. 'when'\n",
       "95. 'while'\n",
       "96. 'won\\'t'\n",
       "97. 'wouldn\\'t'\n",
       "98. 'you\\'re'\n",
       "99. 'your'\n",
       "100. 'yours'\n",
       "\n",
       "\n"
      ],
      "text/plain": [
       "  [1] \"across\"     \"again\"      \"again\"      \"allows\"     \"almost\"    \n",
       "  [6] \"amongst\"    \"and\"        \"as\"         \"asks\"       \"backed\"    \n",
       " [11] \"before\"     \"being\"      \"better\"     \"cant\"       \"consider\"  \n",
       " [16] \"different\"  \"down\"       \"eg\"         \"f\"          \"face\"      \n",
       " [21] \"general\"    \"gets\"       \"getting\"    \"gives\"      \"gives\"     \n",
       " [26] \"good\"       \"had\"        \"happens\"    \"hasn't\"     \"herein\"    \n",
       " [31] \"hereupon\"   \"higher\"     \"himself\"    \"hither\"     \"how\"       \n",
       " [36] \"i\"          \"i'll\"       \"it\"         \"it's\"       \"it's\"      \n",
       " [41] \"itself\"     \"kind\"       \"less\"       \"made\"       \"making\"    \n",
       " [46] \"me\"         \"might\"      \"mostly\"     \"must\"       \"need\"      \n",
       " [51] \"new\"        \"no\"         \"nobody\"     \"not\"        \"novel\"     \n",
       " [56] \"nowhere\"    \"number\"     \"oh\"         \"others\"     \"out\"       \n",
       " [61] \"perhaps\"    \"reasonably\" \"right\"      \"says\"       \"second\"    \n",
       " [66] \"seeming\"    \"sees\"       \"selves\"     \"several\"    \"shows\"     \n",
       " [71] \"somehow\"    \"someone\"    \"taken\"      \"thanx\"      \"the\"       \n",
       " [76] \"thence\"     \"they'd\"     \"they'll\"    \"think\"      \"though\"    \n",
       " [81] \"thought\"    \"through\"    \"through\"    \"thru\"       \"took\"      \n",
       " [86] \"trying\"     \"used\"       \"very\"       \"via\"        \"want\"      \n",
       " [91] \"wanting\"    \"we\"         \"what's\"     \"when\"       \"while\"     \n",
       " [96] \"won't\"      \"wouldn't\"   \"you're\"     \"your\"       \"yours\"     "
      ]
     },
     "metadata": {},
     "output_type": "display_data"
    }
   ],
   "source": [
    "sort(sample(stop_words$word,100))"
   ]
  },
  {
   "cell_type": "markdown",
   "metadata": {},
   "source": [
    "There are also some words like \"http\" and \"t\" that are not stop words but that we probably don't want. We need to remove these \"manually\" using `str_replace_all()` with a regular expression of our choice. The regular expression below is a bit more complex that what we've used before. The basic idea is:\n",
    "\n",
    "* `https?:` finds `http:` or `https:`.\n",
    "* `.*` finds the longest match, which we don't want (why?), so we use `.*?`, which finds the *shortest* match.\n",
    "* the remaining part in round brackets `([\\\\s]|[a-zA-Z0-9]$))` says \"go till you hit a space or the end of the string\".\n",
    "* same applies for `www`.\n",
    "* `&amp;`, `&lt;`, `&gt;` sometimes appear in the tweets to indicate `&`, `<`, `>` respectively.\n",
    "* `RT` removes any retweets (we only want to look at Trump's own tweets).\n",
    "\n",
    "We look at a few examples below. Try experiment with the input tweets and the regular expression to get a good idea of what everything does.\n"
   ]
  },
  {
   "cell_type": "code",
   "execution_count": 33,
   "metadata": {},
   "outputs": [
    {
     "data": {
      "text/html": [
       "'Did you know Donald Trump is on Facebook? http://www.facebook.com/DonaldTrump - Become a fan today!'"
      ],
      "text/latex": [
       "'Did you know Donald Trump is on Facebook? http://www.facebook.com/DonaldTrump - Become a fan today!'"
      ],
      "text/markdown": [
       "'Did you know Donald Trump is on Facebook? http://www.facebook.com/DonaldTrump - Become a fan today!'"
      ],
      "text/plain": [
       "[1] \"Did you know Donald Trump is on Facebook? http://www.facebook.com/DonaldTrump - Become a fan today!\""
      ]
     },
     "metadata": {},
     "output_type": "display_data"
    },
    {
     "data": {
      "text/html": [
       "'Did you know Donald Trump is on Facebook? - Become a fan today!'"
      ],
      "text/latex": [
       "'Did you know Donald Trump is on Facebook? - Become a fan today!'"
      ],
      "text/markdown": [
       "'Did you know Donald Trump is on Facebook? - Become a fan today!'"
      ],
      "text/plain": [
       "[1] \"Did you know Donald Trump is on Facebook? - Become a fan today!\""
      ]
     },
     "metadata": {},
     "output_type": "display_data"
    },
    {
     "data": {
      "text/html": [
       "'Trump International Tower in Chicago ranked 6th tallest building in world by Council on Tall Buildings &amp; Urban Habitat http://bit.ly/sqvQq'"
      ],
      "text/latex": [
       "'Trump International Tower in Chicago ranked 6th tallest building in world by Council on Tall Buildings \\& Urban Habitat http://bit.ly/sqvQq'"
      ],
      "text/markdown": [
       "'Trump International Tower in Chicago ranked 6th tallest building in world by Council on Tall Buildings &amp; Urban Habitat http://bit.ly/sqvQq'"
      ],
      "text/plain": [
       "[1] \"Trump International Tower in Chicago ranked 6th tallest building in world by Council on Tall Buildings & Urban Habitat http://bit.ly/sqvQq\""
      ]
     },
     "metadata": {},
     "output_type": "display_data"
    },
    {
     "data": {
      "text/html": [
       "'Trump International Tower in Chicago ranked 6th tallest building in world by Council on Tall Buildings &amp; Urban Habitat '"
      ],
      "text/latex": [
       "'Trump International Tower in Chicago ranked 6th tallest building in world by Council on Tall Buildings \\& Urban Habitat '"
      ],
      "text/markdown": [
       "'Trump International Tower in Chicago ranked 6th tallest building in world by Council on Tall Buildings &amp; Urban Habitat '"
      ],
      "text/plain": [
       "[1] \"Trump International Tower in Chicago ranked 6th tallest building in world by Council on Tall Buildings & Urban Habitat \""
      ]
     },
     "metadata": {},
     "output_type": "display_data"
    },
    {
     "data": {
      "text/html": [
       "'The Village @Trump_Charlotte offers a variety of 5 Star dining experiences for everyday dining &amp;amp; catered affairs http://t.co/U2PgqIqENP'"
      ],
      "text/latex": [
       "'The Village @Trump\\_Charlotte offers a variety of 5 Star dining experiences for everyday dining \\&amp; catered affairs http://t.co/U2PgqIqENP'"
      ],
      "text/markdown": [
       "'The Village @Trump_Charlotte offers a variety of 5 Star dining experiences for everyday dining &amp;amp; catered affairs http://t.co/U2PgqIqENP'"
      ],
      "text/plain": [
       "[1] \"The Village @Trump_Charlotte offers a variety of 5 Star dining experiences for everyday dining &amp; catered affairs http://t.co/U2PgqIqENP\""
      ]
     },
     "metadata": {},
     "output_type": "display_data"
    },
    {
     "data": {
      "text/html": [
       "<span style=white-space:pre-wrap>'The Village @Trump_Charlotte offers a variety of 5 Star dining experiences for everyday dining  catered affairs '</span>"
      ],
      "text/latex": [
       "'The Village @Trump\\_Charlotte offers a variety of 5 Star dining experiences for everyday dining  catered affairs '"
      ],
      "text/markdown": [
       "<span style=white-space:pre-wrap>'The Village @Trump_Charlotte offers a variety of 5 Star dining experiences for everyday dining  catered affairs '</span>"
      ],
      "text/plain": [
       "[1] \"The Village @Trump_Charlotte offers a variety of 5 Star dining experiences for everyday dining  catered affairs \""
      ]
     },
     "metadata": {},
     "output_type": "display_data"
    }
   ],
   "source": [
    "# pattern that we want to remove (replace with nothing)\n",
    "replace_reg <- \"(https?:.*?([\\\\s]|[a-zA-Z0-9]$))|(www:.*?([\\\\s]|[a-zA-Z0-9]$))|&amp;|&lt;|&gt;|RT\"\n",
    "\n",
    "# tweet with a link\n",
    "tweets$text[39]\n",
    "str_replace_all(tweets$text[39], replace_reg, \"\")\n",
    "# tweet with a link at end of tweet\n",
    "tweets$text[2]\n",
    "str_replace_all(tweets$text[2], replace_reg, \"\")\n",
    "# tweet with a link and an &amp; \n",
    "tweets$text[15251]\n",
    "str_replace_all(tweets$text[15251], replace_reg, \"\")"
   ]
  },
  {
   "cell_type": "markdown",
   "metadata": {},
   "source": [
    "We now rerun the tokenization with these new options and again plot the most common words in the tweets:"
   ]
  },
  {
   "cell_type": "code",
   "execution_count": 34,
   "metadata": {
    "collapsed": true
   },
   "outputs": [],
   "source": [
    "unnest_reg <- \"[^A-Za-z_\\\\d#@']\"\n",
    "\n",
    "tidy_tweets <- tweets %>% \n",
    "    filter(!str_detect(text, \"^RT\")) %>% # remove retweets\n",
    "    mutate(text = str_replace_all(text, replace_reg, \"\")) %>% # remove with a reg exp (http, www, etc)\n",
    "    unnest_tokens(word, text, token = \"regex\", pattern = unnest_reg) %>%\n",
    "    filter(!word %in% stop_words$word,str_detect(word, \"[a-z]\")) %>% # remove stop words\n",
    "  select(date,word,favorite_count) "
   ]
  },
  {
   "cell_type": "markdown",
   "metadata": {},
   "source": [
    "We again plot the most commonly used tokens in our newly-cleaned data frame."
   ]
  },
  {
   "cell_type": "code",
   "execution_count": 39,
   "metadata": {},
   "outputs": [
    {
     "data": {},
     "metadata": {},
     "output_type": "display_data"
    },
    {
     "data": {
      "image/png": "[encoded data removed]",
      "text/plain": [
       "plot without title"
      ]
     },
     "metadata": {},
     "output_type": "display_data"
    }
   ],
   "source": [
    "tidy_tweets %>%\n",
    "  count(word, sort = TRUE) %>%\n",
    "  filter(rank(desc(n)) <= 20) %>%\n",
    "  ggplot(aes(reorder(word,n),n)) + geom_col() + coord_flip() + xlab(\"\")"
   ]
  },
  {
   "cell_type": "markdown",
   "metadata": {},
   "source": [
    "It turns out Trump likes talking about himself, mostly. \n",
    "\n",
    "We can also see whether being president has changed the most commonly used words he uses. To do this we first create a new variable, a binary indicator of whether a tweet was made before or after Trump became president. We do this by comparing the date of the tweet to the date of the US election (8th November 2016). Note that once we have the date in a recognized format like `ymd` or `dmy`, this comparison can be trivially done."
   ]
  },
  {
   "cell_type": "code",
   "execution_count": 40,
   "metadata": {
    "collapsed": true
   },
   "outputs": [],
   "source": [
    "tidy_tweets <- tidy_tweets %>% mutate(is_prez = (date > ymd(20161108)))"
   ]
  },
  {
   "cell_type": "code",
   "execution_count": 41,
   "metadata": {},
   "outputs": [
    {
     "data": {},
     "metadata": {},
     "output_type": "display_data"
    },
    {
     "data": {
      "image/png": "[encoded data removed]",
      "text/plain": [
       "plot without title"
      ]
     },
     "metadata": {},
     "output_type": "display_data"
    }
   ],
   "source": [
    "options(repr.plot.width=6, repr.plot.height=5) # make plot size bit bigger for next plots\n",
    "\n",
    "tidy_tweets %>%\n",
    "  group_by(is_prez) %>%\n",
    "  count(word, sort = TRUE) %>%\n",
    "  filter(rank(desc(n)) <= 20) %>%\n",
    "  ggplot(aes(reorder(word,n), n, fill = is_prez)) + geom_col() + coord_flip() + xlab(\"\")"
   ]
  },
  {
   "cell_type": "markdown",
   "metadata": {},
   "source": [
    "The plot above is a bit unsatisfying - there are obviously a lot more tweets pre-presidency, and that makes it difficult to see what is happening in the post-presidency frequencies. Below we transform the absolute frequencies into relative ones and plot those (it may be helpful to break up the second code block to understand what each line does)."
   ]
  },
  {
   "cell_type": "code",
   "execution_count": 42,
   "metadata": {
    "collapsed": true
   },
   "outputs": [],
   "source": [
    "total_tweets <- tidy_tweets %>% \n",
    "                 group_by(is_prez) %>% \n",
    "                 summarise(total = n())"
   ]
  },
  {
   "cell_type": "code",
   "execution_count": 43,
   "metadata": {},
   "outputs": [
    {
     "name": "stderr",
     "output_type": "stream",
     "text": [
      "Joining, by = \"is_prez\"\n"
     ]
    },
    {
     "data": {},
     "metadata": {},
     "output_type": "display_data"
    },
    {
     "data": {
      "image/png": "[encoded data removed]",
      "text/plain": [
       "plot without title"
      ]
     },
     "metadata": {},
     "output_type": "display_data"
    }
   ],
   "source": [
    "tidy_tweets %>%\n",
    "  group_by(is_prez) %>% \n",
    "  count(word, sort = TRUE) %>% # count the number of times word used \n",
    "  left_join(total_tweets) %>% # add the total number of tweets made (pre- or post-prez)\n",
    "  mutate(freq = n/total) %>% # add relative frequencies\n",
    "  filter(rank(desc(freq)) < 20) %>%\n",
    "  ggplot(aes(reorder(word,freq),freq,fill=is_prez)) + \n",
    "  geom_col() + \n",
    "  coord_flip() + \n",
    "    xlab(\"\") +\n",
    "  facet_grid(.~is_prez)"
   ]
  },
  {
   "cell_type": "markdown",
   "metadata": {},
   "source": [
    "Below we show a wordcloud of Trump's tweets after he became president. Wordclouds are not particularly informative - they just plot words proportional to their frequency of use and position them in an attractive way. This uses the **wordcloud** package."
   ]
  },
  {
   "cell_type": "code",
   "execution_count": 44,
   "metadata": {},
   "outputs": [
    {
     "data": {
      "image/png": "[encoded data removed]",
      "text/plain": [
       "plot without title"
      ]
     },
     "metadata": {},
     "output_type": "display_data"
    }
   ],
   "source": [
    "tidy_tweets %>%\n",
    "    filter(is_prez == TRUE) %>%\n",
    "  count(word) %>%\n",
    "  with(wordcloud(word, n, max.words = 100))"
   ]
  },
  {
   "cell_type": "markdown",
   "metadata": {},
   "source": [
    "## Unigrams, bigrams, n-grams\n",
    "\n",
    "An *n*-gram is a sequence of *n* words in a text. Unigrams are single words, bigrams are pairs of adjacent words, trigrams are sequences of three words, and so on.\n",
    "\n",
    "The `unnest_tokens()` function allows you to easily extract n-grams using the \"ngrams\" token."
   ]
  },
  {
   "cell_type": "code",
   "execution_count": 48,
   "metadata": {},
   "outputs": [
    {
     "data": {
      "text/html": [
       "<table>\n",
       "<thead><tr><th scope=col>date</th><th scope=col>bigram</th></tr></thead>\n",
       "<tbody>\n",
       "\t<tr><td>2013-09-27 14:48:19</td><td>you have           </td></tr>\n",
       "\t<tr><td>2013-09-27 14:48:19</td><td>have to            </td></tr>\n",
       "\t<tr><td>2013-09-27 14:48:19</td><td>to believe         </td></tr>\n",
       "\t<tr><td>2013-09-27 14:48:19</td><td>believe in         </td></tr>\n",
       "\t<tr><td>2013-09-27 14:48:19</td><td>in what            </td></tr>\n",
       "\t<tr><td>2013-09-27 14:48:19</td><td>what you           </td></tr>\n",
       "\t<tr><td>2013-09-27 14:48:19</td><td>you want           </td></tr>\n",
       "\t<tr><td>2013-09-27 14:48:19</td><td>want keep          </td></tr>\n",
       "\t<tr><td>2013-09-27 14:48:19</td><td>keep your          </td></tr>\n",
       "\t<tr><td>2013-09-27 14:48:19</td><td>your focus         </td></tr>\n",
       "</tbody>\n",
       "</table>\n"
      ],
      "text/latex": [
       "\\begin{tabular}{r|ll}\n",
       " date & bigram\\\\\n",
       "\\hline\n",
       "\t 2013-09-27 14:48:19 & you have           \\\\\n",
       "\t 2013-09-27 14:48:19 & have to            \\\\\n",
       "\t 2013-09-27 14:48:19 & to believe         \\\\\n",
       "\t 2013-09-27 14:48:19 & believe in         \\\\\n",
       "\t 2013-09-27 14:48:19 & in what            \\\\\n",
       "\t 2013-09-27 14:48:19 & what you           \\\\\n",
       "\t 2013-09-27 14:48:19 & you want           \\\\\n",
       "\t 2013-09-27 14:48:19 & want keep          \\\\\n",
       "\t 2013-09-27 14:48:19 & keep your          \\\\\n",
       "\t 2013-09-27 14:48:19 & your focus         \\\\\n",
       "\\end{tabular}\n"
      ],
      "text/markdown": [
       "\n",
       "date | bigram | \n",
       "|---|---|---|---|---|---|---|---|---|---|\n",
       "| 2013-09-27 14:48:19 | you have            | \n",
       "| 2013-09-27 14:48:19 | have to             | \n",
       "| 2013-09-27 14:48:19 | to believe          | \n",
       "| 2013-09-27 14:48:19 | believe in          | \n",
       "| 2013-09-27 14:48:19 | in what             | \n",
       "| 2013-09-27 14:48:19 | what you            | \n",
       "| 2013-09-27 14:48:19 | you want            | \n",
       "| 2013-09-27 14:48:19 | want keep           | \n",
       "| 2013-09-27 14:48:19 | keep your           | \n",
       "| 2013-09-27 14:48:19 | your focus          | \n",
       "\n",
       "\n"
      ],
      "text/plain": [
       "   date                bigram    \n",
       "1  2013-09-27 14:48:19 you have  \n",
       "2  2013-09-27 14:48:19 have to   \n",
       "3  2013-09-27 14:48:19 to believe\n",
       "4  2013-09-27 14:48:19 believe in\n",
       "5  2013-09-27 14:48:19 in what   \n",
       "6  2013-09-27 14:48:19 what you  \n",
       "7  2013-09-27 14:48:19 you want  \n",
       "8  2013-09-27 14:48:19 want keep \n",
       "9  2013-09-27 14:48:19 keep your \n",
       "10 2013-09-27 14:48:19 your focus"
      ]
     },
     "metadata": {},
     "output_type": "display_data"
    }
   ],
   "source": [
    "# bigrams\n",
    "unnest_tokens(sample_tweets, bigram, text, token = \"ngrams\", n = 2) %>% head(10)"
   ]
  },
  {
   "cell_type": "code",
   "execution_count": 49,
   "metadata": {},
   "outputs": [
    {
     "data": {
      "text/html": [
       "<table>\n",
       "<thead><tr><th scope=col>date</th><th scope=col>bigram</th></tr></thead>\n",
       "<tbody>\n",
       "\t<tr><td>2013-09-27 14:48:19</td><td>you have to        </td></tr>\n",
       "\t<tr><td>2013-09-27 14:48:19</td><td>have to believe    </td></tr>\n",
       "\t<tr><td>2013-09-27 14:48:19</td><td>to believe in      </td></tr>\n",
       "\t<tr><td>2013-09-27 14:48:19</td><td>believe in what    </td></tr>\n",
       "\t<tr><td>2013-09-27 14:48:19</td><td>in what you        </td></tr>\n",
       "\t<tr><td>2013-09-27 14:48:19</td><td>what you want      </td></tr>\n",
       "\t<tr><td>2013-09-27 14:48:19</td><td>you want keep      </td></tr>\n",
       "\t<tr><td>2013-09-27 14:48:19</td><td>want keep your     </td></tr>\n",
       "\t<tr><td>2013-09-27 14:48:19</td><td>keep your focus    </td></tr>\n",
       "\t<tr><td>2013-09-27 14:48:19</td><td>your focus keep    </td></tr>\n",
       "</tbody>\n",
       "</table>\n"
      ],
      "text/latex": [
       "\\begin{tabular}{r|ll}\n",
       " date & bigram\\\\\n",
       "\\hline\n",
       "\t 2013-09-27 14:48:19 & you have to        \\\\\n",
       "\t 2013-09-27 14:48:19 & have to believe    \\\\\n",
       "\t 2013-09-27 14:48:19 & to believe in      \\\\\n",
       "\t 2013-09-27 14:48:19 & believe in what    \\\\\n",
       "\t 2013-09-27 14:48:19 & in what you        \\\\\n",
       "\t 2013-09-27 14:48:19 & what you want      \\\\\n",
       "\t 2013-09-27 14:48:19 & you want keep      \\\\\n",
       "\t 2013-09-27 14:48:19 & want keep your     \\\\\n",
       "\t 2013-09-27 14:48:19 & keep your focus    \\\\\n",
       "\t 2013-09-27 14:48:19 & your focus keep    \\\\\n",
       "\\end{tabular}\n"
      ],
      "text/markdown": [
       "\n",
       "date | bigram | \n",
       "|---|---|---|---|---|---|---|---|---|---|\n",
       "| 2013-09-27 14:48:19 | you have to         | \n",
       "| 2013-09-27 14:48:19 | have to believe     | \n",
       "| 2013-09-27 14:48:19 | to believe in       | \n",
       "| 2013-09-27 14:48:19 | believe in what     | \n",
       "| 2013-09-27 14:48:19 | in what you         | \n",
       "| 2013-09-27 14:48:19 | what you want       | \n",
       "| 2013-09-27 14:48:19 | you want keep       | \n",
       "| 2013-09-27 14:48:19 | want keep your      | \n",
       "| 2013-09-27 14:48:19 | keep your focus     | \n",
       "| 2013-09-27 14:48:19 | your focus keep     | \n",
       "\n",
       "\n"
      ],
      "text/plain": [
       "   date                bigram         \n",
       "1  2013-09-27 14:48:19 you have to    \n",
       "2  2013-09-27 14:48:19 have to believe\n",
       "3  2013-09-27 14:48:19 to believe in  \n",
       "4  2013-09-27 14:48:19 believe in what\n",
       "5  2013-09-27 14:48:19 in what you    \n",
       "6  2013-09-27 14:48:19 what you want  \n",
       "7  2013-09-27 14:48:19 you want keep  \n",
       "8  2013-09-27 14:48:19 want keep your \n",
       "9  2013-09-27 14:48:19 keep your focus\n",
       "10 2013-09-27 14:48:19 your focus keep"
      ]
     },
     "metadata": {},
     "output_type": "display_data"
    }
   ],
   "source": [
    "# trigrams\n",
    "unnest_tokens(sample_tweets, bigram, text, token = \"ngrams\", n = 3) %>% head(10)"
   ]
  },
  {
   "cell_type": "markdown",
   "metadata": {},
   "source": [
    "We extract the full set of bigrams below, and do the same cleaning up we did for unigrams earlier. Removing stop words is a bit trickier with bigrams. We need to separate each bigram into its constituent words, remove the stop words, and then put the bigrams back together again. Both `separate()` and `unite()` are **tidyr** functions."
   ]
  },
  {
   "cell_type": "code",
   "execution_count": 50,
   "metadata": {
    "collapsed": true
   },
   "outputs": [],
   "source": [
    "replace_reg <- \"(https?:.*?([\\\\s]|[a-zA-Z0-9]$))|(www:.*?([\\\\s]|[a-zA-Z0-9]$))|&amp;|&lt;|&gt;|RT\"\n",
    "\n",
    "# tokenization\n",
    "tweet_bigrams <- tweets %>%\n",
    "  filter(!str_detect(text, \"^RT\")) %>%\n",
    "  mutate(text = str_replace_all(text, replace_reg, \"\")) %>%\n",
    "  unnest_tokens(bigram, text, token = \"ngrams\", n = 2)\n",
    "\n",
    "# separate the bigrams \n",
    "bigrams_separated <- tweet_bigrams %>%\n",
    "  separate(bigram, c(\"word1\", \"word2\"), sep = \" \")\n",
    "\n",
    "# remove stop words\n",
    "bigrams_filtered <- bigrams_separated %>%\n",
    "  filter(!word1 %in% stop_words$word) %>%\n",
    "  filter(!word2 %in% stop_words$word)\n",
    "\n",
    "# join up the bigrams again\n",
    "bigrams_united <- bigrams_filtered %>%\n",
    "  unite(bigram, word1, word2, sep = \" \")\n"
   ]
  },
  {
   "cell_type": "markdown",
   "metadata": {},
   "source": [
    "We can now see what the most common bigrams are. Note that these are very different from the most common words. That is, they definitely provide different and useful information over and above what the unigrams did."
   ]
  },
  {
   "cell_type": "code",
   "execution_count": 53,
   "metadata": {},
   "outputs": [
    {
     "data": {
      "text/html": [
       "<table>\n",
       "<thead><tr><th scope=col>word1</th><th scope=col>word2</th><th scope=col>n</th></tr></thead>\n",
       "<tbody>\n",
       "\t<tr><td>donald               </td><td>trump                </td><td>1067                 </td></tr>\n",
       "\t<tr><td>hillary              </td><td>clinton              </td><td> 214                 </td></tr>\n",
       "\t<tr><td>celebrity            </td><td>apprentice           </td><td> 212                 </td></tr>\n",
       "\t<tr><td>crooked              </td><td>hillary              </td><td> 205                 </td></tr>\n",
       "\t<tr><td>white                </td><td>house                </td><td> 167                 </td></tr>\n",
       "\t<tr><td>president            </td><td>obama                </td><td> 165                 </td></tr>\n",
       "\t<tr><td>trump                </td><td>tower                </td><td> 161                 </td></tr>\n",
       "\t<tr><td>makeamericagreatagain</td><td>trump2016            </td><td> 155                 </td></tr>\n",
       "\t<tr><td>trump                </td><td>national             </td><td> 136                 </td></tr>\n",
       "\t<tr><td>realdonaldtrump      </td><td>trump                </td><td> 121                 </td></tr>\n",
       "</tbody>\n",
       "</table>\n"
      ],
      "text/latex": [
       "\\begin{tabular}{r|lll}\n",
       " word1 & word2 & n\\\\\n",
       "\\hline\n",
       "\t donald                & trump                 & 1067                 \\\\\n",
       "\t hillary               & clinton               &  214                 \\\\\n",
       "\t celebrity             & apprentice            &  212                 \\\\\n",
       "\t crooked               & hillary               &  205                 \\\\\n",
       "\t white                 & house                 &  167                 \\\\\n",
       "\t president             & obama                 &  165                 \\\\\n",
       "\t trump                 & tower                 &  161                 \\\\\n",
       "\t makeamericagreatagain & trump2016             &  155                 \\\\\n",
       "\t trump                 & national              &  136                 \\\\\n",
       "\t realdonaldtrump       & trump                 &  121                 \\\\\n",
       "\\end{tabular}\n"
      ],
      "text/markdown": [
       "\n",
       "word1 | word2 | n | \n",
       "|---|---|---|---|---|---|---|---|---|---|\n",
       "| donald                | trump                 | 1067                  | \n",
       "| hillary               | clinton               |  214                  | \n",
       "| celebrity             | apprentice            |  212                  | \n",
       "| crooked               | hillary               |  205                  | \n",
       "| white                 | house                 |  167                  | \n",
       "| president             | obama                 |  165                  | \n",
       "| trump                 | tower                 |  161                  | \n",
       "| makeamericagreatagain | trump2016             |  155                  | \n",
       "| trump                 | national              |  136                  | \n",
       "| realdonaldtrump       | trump                 |  121                  | \n",
       "\n",
       "\n"
      ],
      "text/plain": [
       "   word1                 word2      n   \n",
       "1  donald                trump      1067\n",
       "2  hillary               clinton     214\n",
       "3  celebrity             apprentice  212\n",
       "4  crooked               hillary     205\n",
       "5  white                 house       167\n",
       "6  president             obama       165\n",
       "7  trump                 tower       161\n",
       "8  makeamericagreatagain trump2016   155\n",
       "9  trump                 national    136\n",
       "10 realdonaldtrump       trump       121"
      ]
     },
     "metadata": {},
     "output_type": "display_data"
    }
   ],
   "source": [
    "bigram_counts <- bigrams_filtered %>% \n",
    "  count(word1, word2, sort = TRUE) %>% \n",
    "filter(rank(desc(n)) <= 10)\n",
    "bigram_counts\n",
    "\n",
    "# same answer (not run)\n",
    "# bigrams_united %>% \n",
    "# count(bigram, sort = TRUE) %>% \n",
    "# filter(rank(desc(n)) <= 10)"
   ]
  },
  {
   "cell_type": "markdown",
   "metadata": {},
   "source": [
    "## Text generation\n",
    "\n",
    "One area of natural language processing is (natural language) *generation*, roughly speaking an attempt to generate realistic looking and sounding text and speech from some data or knowledge base. For example, one might automatically generate a short textual weather report from predicted numerical inputs.\n",
    "\n",
    "In this section we'll build a model for generating Trump-like tweets. We do this by looking at sequences of words (or more generally *n*-grams) that Trump uses. Let's start by generating Trump-like *sentences*. We do this by:\n",
    "\n",
    "1. Creating a dictionary of all words Trump has started a sentence with.\n",
    "2. Randomly choosing one of these \"start words\". \n",
    "3. Identify all the instances in which he used that word, and in each case extract the \"word\" that followed it. A \"word\" can be a full stop, indicating the end of the sentence. Some words may appear more than once. Create a list with these \"following words\" and the frequency with which they occur on the list. \n",
    "4. To select the next word in the sentence, we choose a word from the list, either totally randomly or with probability proportional to the frequency with which each word appears on the list. \n",
    "5. Repeat steps 3 and 4 until a full stop is reached.\n",
    "\n",
    "We still need to turn sentences into tweets - a simple way is just to generate sentences until you are out of space (140 characters).\n",
    "\n",
    "In the previous examples full stops were included as separating characters i.e. we split a string wherever we encountered a full stop (see `unnest_reg` above, and compare below). Now we want to treat a full stop as equivalent to a word. We thus need to create a new tidy tweets data frame that does this. "
   ]
  },
  {
   "cell_type": "code",
   "execution_count": 54,
   "metadata": {
    "collapsed": true
   },
   "outputs": [],
   "source": [
    "unnest_reg <- \"[^\\\\.A-Za-z_\\\\d#@']\" # note adding a fullstop to the reg exp used before\n",
    "\n",
    "tidy_tweets_wstop <- tweets %>% \n",
    "  filter(!str_detect(text, \"^RT\")) %>%\n",
    "  mutate(text = str_replace_all(text, \"[Dd]on't\", \"dont\")) %>% # some additional cleaning\n",
    "  mutate(text = str_replace_all(text, \"(j\\\\.)|(J\\\\.)\", \"j\")) %>% # some additional cleaning\n",
    "  mutate(text = str_replace_all(text, replace_reg, \"\")) %>%\n",
    "  mutate(text = str_replace(text, \"\\\\.\", \" \\\\.\")) %>% # add a space before fullstop so counted as own word\n",
    "  unnest_tokens(word, text, token = \"regex\", pattern = unnest_reg) %>%\n",
    "  select(id_str, date, word) %>%\n",
    "  group_by(id_str) %>% # group words by tweet\n",
    "  mutate(next_word = lead(word)) # the \"lead\" and \"lag\" operators can be very useful!"
   ]
  },
  {
   "cell_type": "markdown",
   "metadata": {},
   "source": [
    "Let's have a look at the data frame we just constructed."
   ]
  },
  {
   "cell_type": "code",
   "execution_count": 55,
   "metadata": {
    "scrolled": false
   },
   "outputs": [
    {
     "data": {
      "text/html": [
       "<table>\n",
       "<thead><tr><th scope=col>id_str</th><th scope=col>date</th><th scope=col>word</th><th scope=col>next_word</th></tr></thead>\n",
       "<tbody>\n",
       "\t<tr><td>260850671576829952 </td><td>2012-10-23 21:10:21</td><td>this               </td><td>is                 </td></tr>\n",
       "\t<tr><td>260850671576829952 </td><td>2012-10-23 21:10:21</td><td>is                 </td><td>not                </td></tr>\n",
       "\t<tr><td>260850671576829952 </td><td>2012-10-23 21:10:21</td><td>not                </td><td>a                  </td></tr>\n",
       "\t<tr><td>260850671576829952 </td><td>2012-10-23 21:10:21</td><td>a                  </td><td>media              </td></tr>\n",
       "\t<tr><td>260850671576829952 </td><td>2012-10-23 21:10:21</td><td>media              </td><td>event              </td></tr>\n",
       "\t<tr><td>260850671576829952 </td><td>2012-10-23 21:10:21</td><td>event              </td><td>or                 </td></tr>\n",
       "\t<tr><td>260850671576829952 </td><td>2012-10-23 21:10:21</td><td>or                 </td><td>about              </td></tr>\n",
       "\t<tr><td>260850671576829952 </td><td>2012-10-23 21:10:21</td><td>about              </td><td>donald             </td></tr>\n",
       "\t<tr><td>260850671576829952 </td><td>2012-10-23 21:10:21</td><td>donald             </td><td>j                  </td></tr>\n",
       "\t<tr><td>260850671576829952 </td><td>2012-10-23 21:10:21</td><td>j                  </td><td>trump              </td></tr>\n",
       "\t<tr><td>260850671576829952 </td><td>2012-10-23 21:10:21</td><td>trump              </td><td>this               </td></tr>\n",
       "\t<tr><td>260850671576829952 </td><td>2012-10-23 21:10:21</td><td>this               </td><td>is                 </td></tr>\n",
       "\t<tr><td>260850671576829952 </td><td>2012-10-23 21:10:21</td><td>is                 </td><td>about              </td></tr>\n",
       "\t<tr><td>260850671576829952 </td><td>2012-10-23 21:10:21</td><td>about              </td><td>the                </td></tr>\n",
       "\t<tr><td>260850671576829952 </td><td>2012-10-23 21:10:21</td><td>the                </td><td>united             </td></tr>\n",
       "\t<tr><td>260850671576829952 </td><td>2012-10-23 21:10:21</td><td>united             </td><td>states             </td></tr>\n",
       "\t<tr><td>260850671576829952 </td><td>2012-10-23 21:10:21</td><td>states             </td><td>of                 </td></tr>\n",
       "\t<tr><td>260850671576829952 </td><td>2012-10-23 21:10:21</td><td>of                 </td><td>america            </td></tr>\n",
       "\t<tr><td>260850671576829952 </td><td>2012-10-23 21:10:21</td><td>america            </td><td>.                  </td></tr>\n",
       "\t<tr><td>260850671576829952 </td><td>2012-10-23 21:10:21</td><td>.                  </td><td>i                  </td></tr>\n",
       "\t<tr><td>260850671576829952 </td><td>2012-10-23 21:10:21</td><td>i                  </td><td>will               </td></tr>\n",
       "\t<tr><td>260850671576829952 </td><td>2012-10-23 21:10:21</td><td>will               </td><td>be...              </td></tr>\n",
       "\t<tr><td>260850671576829952 </td><td>2012-10-23 21:10:21</td><td>be...              </td><td>NA                 </td></tr>\n",
       "\t<tr><td>261138885466267648 </td><td>2012-10-24 16:15:36</td><td>as                 </td><td>stated             </td></tr>\n",
       "\t<tr><td>261138885466267648 </td><td>2012-10-24 16:15:36</td><td>stated             </td><td>here               </td></tr>\n",
       "\t<tr><td>261138885466267648 </td><td>2012-10-24 16:15:36</td><td>here               </td><td>is                 </td></tr>\n",
       "\t<tr><td>261138885466267648 </td><td>2012-10-24 16:15:36</td><td>is                 </td><td>the                </td></tr>\n",
       "\t<tr><td>261138885466267648 </td><td>2012-10-24 16:15:36</td><td>the                </td><td>press              </td></tr>\n",
       "\t<tr><td>261138885466267648 </td><td>2012-10-24 16:15:36</td><td>press              </td><td>release            </td></tr>\n",
       "\t<tr><td>261138885466267648 </td><td>2012-10-24 16:15:36</td><td>release            </td><td>.                  </td></tr>\n",
       "\t<tr><td>261138885466267648 </td><td>2012-10-24 16:15:36</td><td>.                  </td><td>NA                 </td></tr>\n",
       "\t<tr><td>261147459739336705 </td><td>2012-10-24 16:49:40</td><td>the                </td><td>response           </td></tr>\n",
       "\t<tr><td>261147459739336705 </td><td>2012-10-24 16:49:40</td><td>response           </td><td>has                </td></tr>\n",
       "\t<tr><td>261147459739336705 </td><td>2012-10-24 16:49:40</td><td>has                </td><td>been               </td></tr>\n",
       "\t<tr><td>261147459739336705 </td><td>2012-10-24 16:49:40</td><td>been               </td><td>fantastic          </td></tr>\n",
       "\t<tr><td>261147459739336705 </td><td>2012-10-24 16:49:40</td><td>fantastic          </td><td>actually           </td></tr>\n",
       "\t<tr><td>261147459739336705 </td><td>2012-10-24 16:49:40</td><td>actually           </td><td>overwhelming       </td></tr>\n",
       "\t<tr><td>261147459739336705 </td><td>2012-10-24 16:49:40</td><td>overwhelming       </td><td>thank              </td></tr>\n",
       "\t<tr><td>261147459739336705 </td><td>2012-10-24 16:49:40</td><td>thank              </td><td>you                </td></tr>\n",
       "\t<tr><td>261147459739336705 </td><td>2012-10-24 16:49:40</td><td>you                </td><td>NA                 </td></tr>\n",
       "</tbody>\n",
       "</table>\n"
      ],
      "text/latex": [
       "\\begin{tabular}{r|llll}\n",
       " id\\_str & date & word & next\\_word\\\\\n",
       "\\hline\n",
       "\t 260850671576829952  & 2012-10-23 21:10:21 & this                & is                 \\\\\n",
       "\t 260850671576829952  & 2012-10-23 21:10:21 & is                  & not                \\\\\n",
       "\t 260850671576829952  & 2012-10-23 21:10:21 & not                 & a                  \\\\\n",
       "\t 260850671576829952  & 2012-10-23 21:10:21 & a                   & media              \\\\\n",
       "\t 260850671576829952  & 2012-10-23 21:10:21 & media               & event              \\\\\n",
       "\t 260850671576829952  & 2012-10-23 21:10:21 & event               & or                 \\\\\n",
       "\t 260850671576829952  & 2012-10-23 21:10:21 & or                  & about              \\\\\n",
       "\t 260850671576829952  & 2012-10-23 21:10:21 & about               & donald             \\\\\n",
       "\t 260850671576829952  & 2012-10-23 21:10:21 & donald              & j                  \\\\\n",
       "\t 260850671576829952  & 2012-10-23 21:10:21 & j                   & trump              \\\\\n",
       "\t 260850671576829952  & 2012-10-23 21:10:21 & trump               & this               \\\\\n",
       "\t 260850671576829952  & 2012-10-23 21:10:21 & this                & is                 \\\\\n",
       "\t 260850671576829952  & 2012-10-23 21:10:21 & is                  & about              \\\\\n",
       "\t 260850671576829952  & 2012-10-23 21:10:21 & about               & the                \\\\\n",
       "\t 260850671576829952  & 2012-10-23 21:10:21 & the                 & united             \\\\\n",
       "\t 260850671576829952  & 2012-10-23 21:10:21 & united              & states             \\\\\n",
       "\t 260850671576829952  & 2012-10-23 21:10:21 & states              & of                 \\\\\n",
       "\t 260850671576829952  & 2012-10-23 21:10:21 & of                  & america            \\\\\n",
       "\t 260850671576829952  & 2012-10-23 21:10:21 & america             & .                  \\\\\n",
       "\t 260850671576829952  & 2012-10-23 21:10:21 & .                   & i                  \\\\\n",
       "\t 260850671576829952  & 2012-10-23 21:10:21 & i                   & will               \\\\\n",
       "\t 260850671576829952  & 2012-10-23 21:10:21 & will                & be...              \\\\\n",
       "\t 260850671576829952  & 2012-10-23 21:10:21 & be...               & NA                 \\\\\n",
       "\t 261138885466267648  & 2012-10-24 16:15:36 & as                  & stated             \\\\\n",
       "\t 261138885466267648  & 2012-10-24 16:15:36 & stated              & here               \\\\\n",
       "\t 261138885466267648  & 2012-10-24 16:15:36 & here                & is                 \\\\\n",
       "\t 261138885466267648  & 2012-10-24 16:15:36 & is                  & the                \\\\\n",
       "\t 261138885466267648  & 2012-10-24 16:15:36 & the                 & press              \\\\\n",
       "\t 261138885466267648  & 2012-10-24 16:15:36 & press               & release            \\\\\n",
       "\t 261138885466267648  & 2012-10-24 16:15:36 & release             & .                  \\\\\n",
       "\t 261138885466267648  & 2012-10-24 16:15:36 & .                   & NA                 \\\\\n",
       "\t 261147459739336705  & 2012-10-24 16:49:40 & the                 & response           \\\\\n",
       "\t 261147459739336705  & 2012-10-24 16:49:40 & response            & has                \\\\\n",
       "\t 261147459739336705  & 2012-10-24 16:49:40 & has                 & been               \\\\\n",
       "\t 261147459739336705  & 2012-10-24 16:49:40 & been                & fantastic          \\\\\n",
       "\t 261147459739336705  & 2012-10-24 16:49:40 & fantastic           & actually           \\\\\n",
       "\t 261147459739336705  & 2012-10-24 16:49:40 & actually            & overwhelming       \\\\\n",
       "\t 261147459739336705  & 2012-10-24 16:49:40 & overwhelming        & thank              \\\\\n",
       "\t 261147459739336705  & 2012-10-24 16:49:40 & thank               & you                \\\\\n",
       "\t 261147459739336705  & 2012-10-24 16:49:40 & you                 & NA                 \\\\\n",
       "\\end{tabular}\n"
      ],
      "text/markdown": [
       "\n",
       "id_str | date | word | next_word | \n",
       "|---|---|---|---|---|---|---|---|---|---|---|---|---|---|---|---|---|---|---|---|---|---|---|---|---|---|---|---|---|---|---|---|---|---|---|---|---|---|---|---|\n",
       "| 260850671576829952  | 2012-10-23 21:10:21 | this                | is                  | \n",
       "| 260850671576829952  | 2012-10-23 21:10:21 | is                  | not                 | \n",
       "| 260850671576829952  | 2012-10-23 21:10:21 | not                 | a                   | \n",
       "| 260850671576829952  | 2012-10-23 21:10:21 | a                   | media               | \n",
       "| 260850671576829952  | 2012-10-23 21:10:21 | media               | event               | \n",
       "| 260850671576829952  | 2012-10-23 21:10:21 | event               | or                  | \n",
       "| 260850671576829952  | 2012-10-23 21:10:21 | or                  | about               | \n",
       "| 260850671576829952  | 2012-10-23 21:10:21 | about               | donald              | \n",
       "| 260850671576829952  | 2012-10-23 21:10:21 | donald              | j                   | \n",
       "| 260850671576829952  | 2012-10-23 21:10:21 | j                   | trump               | \n",
       "| 260850671576829952  | 2012-10-23 21:10:21 | trump               | this                | \n",
       "| 260850671576829952  | 2012-10-23 21:10:21 | this                | is                  | \n",
       "| 260850671576829952  | 2012-10-23 21:10:21 | is                  | about               | \n",
       "| 260850671576829952  | 2012-10-23 21:10:21 | about               | the                 | \n",
       "| 260850671576829952  | 2012-10-23 21:10:21 | the                 | united              | \n",
       "| 260850671576829952  | 2012-10-23 21:10:21 | united              | states              | \n",
       "| 260850671576829952  | 2012-10-23 21:10:21 | states              | of                  | \n",
       "| 260850671576829952  | 2012-10-23 21:10:21 | of                  | america             | \n",
       "| 260850671576829952  | 2012-10-23 21:10:21 | america             | .                   | \n",
       "| 260850671576829952  | 2012-10-23 21:10:21 | .                   | i                   | \n",
       "| 260850671576829952  | 2012-10-23 21:10:21 | i                   | will                | \n",
       "| 260850671576829952  | 2012-10-23 21:10:21 | will                | be...               | \n",
       "| 260850671576829952  | 2012-10-23 21:10:21 | be...               | NA                  | \n",
       "| 261138885466267648  | 2012-10-24 16:15:36 | as                  | stated              | \n",
       "| 261138885466267648  | 2012-10-24 16:15:36 | stated              | here                | \n",
       "| 261138885466267648  | 2012-10-24 16:15:36 | here                | is                  | \n",
       "| 261138885466267648  | 2012-10-24 16:15:36 | is                  | the                 | \n",
       "| 261138885466267648  | 2012-10-24 16:15:36 | the                 | press               | \n",
       "| 261138885466267648  | 2012-10-24 16:15:36 | press               | release             | \n",
       "| 261138885466267648  | 2012-10-24 16:15:36 | release             | .                   | \n",
       "| 261138885466267648  | 2012-10-24 16:15:36 | .                   | NA                  | \n",
       "| 261147459739336705  | 2012-10-24 16:49:40 | the                 | response            | \n",
       "| 261147459739336705  | 2012-10-24 16:49:40 | response            | has                 | \n",
       "| 261147459739336705  | 2012-10-24 16:49:40 | has                 | been                | \n",
       "| 261147459739336705  | 2012-10-24 16:49:40 | been                | fantastic           | \n",
       "| 261147459739336705  | 2012-10-24 16:49:40 | fantastic           | actually            | \n",
       "| 261147459739336705  | 2012-10-24 16:49:40 | actually            | overwhelming        | \n",
       "| 261147459739336705  | 2012-10-24 16:49:40 | overwhelming        | thank               | \n",
       "| 261147459739336705  | 2012-10-24 16:49:40 | thank               | you                 | \n",
       "| 261147459739336705  | 2012-10-24 16:49:40 | you                 | NA                  | \n",
       "\n",
       "\n"
      ],
      "text/plain": [
       "   id_str             date                word         next_word   \n",
       "1  260850671576829952 2012-10-23 21:10:21 this         is          \n",
       "2  260850671576829952 2012-10-23 21:10:21 is           not         \n",
       "3  260850671576829952 2012-10-23 21:10:21 not          a           \n",
       "4  260850671576829952 2012-10-23 21:10:21 a            media       \n",
       "5  260850671576829952 2012-10-23 21:10:21 media        event       \n",
       "6  260850671576829952 2012-10-23 21:10:21 event        or          \n",
       "7  260850671576829952 2012-10-23 21:10:21 or           about       \n",
       "8  260850671576829952 2012-10-23 21:10:21 about        donald      \n",
       "9  260850671576829952 2012-10-23 21:10:21 donald       j           \n",
       "10 260850671576829952 2012-10-23 21:10:21 j            trump       \n",
       "11 260850671576829952 2012-10-23 21:10:21 trump        this        \n",
       "12 260850671576829952 2012-10-23 21:10:21 this         is          \n",
       "13 260850671576829952 2012-10-23 21:10:21 is           about       \n",
       "14 260850671576829952 2012-10-23 21:10:21 about        the         \n",
       "15 260850671576829952 2012-10-23 21:10:21 the          united      \n",
       "16 260850671576829952 2012-10-23 21:10:21 united       states      \n",
       "17 260850671576829952 2012-10-23 21:10:21 states       of          \n",
       "18 260850671576829952 2012-10-23 21:10:21 of           america     \n",
       "19 260850671576829952 2012-10-23 21:10:21 america      .           \n",
       "20 260850671576829952 2012-10-23 21:10:21 .            i           \n",
       "21 260850671576829952 2012-10-23 21:10:21 i            will        \n",
       "22 260850671576829952 2012-10-23 21:10:21 will         be...       \n",
       "23 260850671576829952 2012-10-23 21:10:21 be...        NA          \n",
       "24 261138885466267648 2012-10-24 16:15:36 as           stated      \n",
       "25 261138885466267648 2012-10-24 16:15:36 stated       here        \n",
       "26 261138885466267648 2012-10-24 16:15:36 here         is          \n",
       "27 261138885466267648 2012-10-24 16:15:36 is           the         \n",
       "28 261138885466267648 2012-10-24 16:15:36 the          press       \n",
       "29 261138885466267648 2012-10-24 16:15:36 press        release     \n",
       "30 261138885466267648 2012-10-24 16:15:36 release      .           \n",
       "31 261138885466267648 2012-10-24 16:15:36 .            NA          \n",
       "32 261147459739336705 2012-10-24 16:49:40 the          response    \n",
       "33 261147459739336705 2012-10-24 16:49:40 response     has         \n",
       "34 261147459739336705 2012-10-24 16:49:40 has          been        \n",
       "35 261147459739336705 2012-10-24 16:49:40 been         fantastic   \n",
       "36 261147459739336705 2012-10-24 16:49:40 fantastic    actually    \n",
       "37 261147459739336705 2012-10-24 16:49:40 actually     overwhelming\n",
       "38 261147459739336705 2012-10-24 16:49:40 overwhelming thank       \n",
       "39 261147459739336705 2012-10-24 16:49:40 thank        you         \n",
       "40 261147459739336705 2012-10-24 16:49:40 you          NA          "
      ]
     },
     "metadata": {},
     "output_type": "display_data"
    }
   ],
   "source": [
    "head(tidy_tweets_wstop,40)"
   ]
  },
  {
   "cell_type": "markdown",
   "metadata": {},
   "source": [
    "We now count the number of times that each word pair (*word* followed by *next_word*) occurs. This is the same as a bigram frequency count we did above, just that we've included full stops."
   ]
  },
  {
   "cell_type": "code",
   "execution_count": 59,
   "metadata": {},
   "outputs": [
    {
     "data": {
      "text/html": [
       "<table>\n",
       "<thead><tr><th scope=col>word</th><th scope=col>next_word</th><th scope=col>n</th></tr></thead>\n",
       "<tbody>\n",
       "\t<tr><td>.    </td><td>NA   </td><td>4442 </td></tr>\n",
       "\t<tr><td>thank</td><td>you  </td><td>1765 </td></tr>\n",
       "\t<tr><td>of   </td><td>the  </td><td>1561 </td></tr>\n",
       "\t<tr><td>will </td><td>be   </td><td>1480 </td></tr>\n",
       "\t<tr><td>in   </td><td>the  </td><td>1198 </td></tr>\n",
       "</tbody>\n",
       "</table>\n"
      ],
      "text/latex": [
       "\\begin{tabular}{r|lll}\n",
       " word & next\\_word & n\\\\\n",
       "\\hline\n",
       "\t .     & NA    & 4442 \\\\\n",
       "\t thank & you   & 1765 \\\\\n",
       "\t of    & the   & 1561 \\\\\n",
       "\t will  & be    & 1480 \\\\\n",
       "\t in    & the   & 1198 \\\\\n",
       "\\end{tabular}\n"
      ],
      "text/markdown": [
       "\n",
       "word | next_word | n | \n",
       "|---|---|---|---|---|\n",
       "| .     | NA    | 4442  | \n",
       "| thank | you   | 1765  | \n",
       "| of    | the   | 1561  | \n",
       "| will  | be    | 1480  | \n",
       "| in    | the   | 1198  | \n",
       "\n",
       "\n"
      ],
      "text/plain": [
       "  word  next_word n   \n",
       "1 .     NA        4442\n",
       "2 thank you       1765\n",
       "3 of    the       1561\n",
       "4 will  be        1480\n",
       "5 in    the       1198"
      ]
     },
     "metadata": {},
     "output_type": "display_data"
    }
   ],
   "source": [
    "transitions <- tidy_tweets_wstop %>%\n",
    "  group_by(word,next_word) %>%\n",
    "  count() %>% \n",
    "  ungroup() # remember to ungroup else later steps are slow!\n",
    "transitions %>% arrange(desc(n)) %>% head(5)"
   ]
  },
  {
   "cell_type": "markdown",
   "metadata": {},
   "source": [
    "The last full stop of every tweet is followed by an `NA`. This causes problems later on, so we replace the `NA` with another full stop."
   ]
  },
  {
   "cell_type": "code",
   "execution_count": 60,
   "metadata": {
    "collapsed": true
   },
   "outputs": [],
   "source": [
    "transitions$next_word[is.na(transitions$next_word)] <- \".\""
   ]
  },
  {
   "cell_type": "markdown",
   "metadata": {},
   "source": [
    "Finally, we unleash our unigram-based Trump tweeter. This model randomly samples from the list of next words. It continues to create sentences until the tweet is over 140 characters *and* full stop is reached. Thus the tweets it generates will be too long (more than 140 characters). As an exercise, try fixing this problem."
   ]
  },
  {
   "cell_type": "code",
   "execution_count": 62,
   "metadata": {},
   "outputs": [
    {
     "data": {
      "text/html": [
       "'. @jack_welch or mario andretti . voice and stagnant as last nite ballroom under amazing how success you bring home alive. iran humiliated the axis on geno he fills out according to aesthetics not tonight have obviously tony blair you alabama .'"
      ],
      "text/latex": [
       "'. @jack\\_welch or mario andretti . voice and stagnant as last nite ballroom under amazing how success you bring home alive. iran humiliated the axis on geno he fills out according to aesthetics not tonight have obviously tony blair you alabama .'"
      ],
      "text/markdown": [
       "'. @jack_welch or mario andretti . voice and stagnant as last nite ballroom under amazing how success you bring home alive. iran humiliated the axis on geno he fills out according to aesthetics not tonight have obviously tony blair you alabama .'"
      ],
      "text/plain": [
       "[1] \". @jack_welch or mario andretti . voice and stagnant as last nite ballroom under amazing how success you bring home alive. iran humiliated the axis on geno he fills out according to aesthetics not tonight have obviously tony blair you alabama .\""
      ]
     },
     "metadata": {},
     "output_type": "display_data"
    }
   ],
   "source": [
    "set.seed(2)\n",
    "# trump v1, unigram model, random sampling\n",
    "\n",
    "# start at the end of a sentence (so next word is a start word)\n",
    "current <- \".\"\n",
    "result <- \".\"\n",
    "keep_going <- TRUE\n",
    "while(keep_going == TRUE){\n",
    "    \n",
    "    # get next word\n",
    "    next_word <- transitions %>% \n",
    "    filter(word == as.character(current)) %>% \n",
    "    sample_n(1) %>% # random sampling\n",
    "    select(next_word)\n",
    "    \n",
    "    # combine with result so far\n",
    "    result <- str_c(result,\" \", next_word)\n",
    "    current <- next_word\n",
    "\n",
    "    # does the current word appear in the 'word' column?\n",
    "    n_current <- sum(transitions$word == as.character(current))\n",
    "  \n",
    "    # keep going if can look up current word and tweet is < 140 or current word is not .\n",
    "    keep_going <- ifelse(n_current == 0, FALSE,\n",
    "                         ifelse(nchar(result) < 140, TRUE, \n",
    "                                ifelse(str_detect(current,\"\\\\.\"), FALSE, TRUE)))\n",
    "    \n",
    "}\n",
    "result"
   ]
  },
  {
   "cell_type": "markdown",
   "metadata": {},
   "source": [
    "The generated tweets have traces of Trump but are more or less gibberish. We can try improve the generation model by changing the sampling to be proportional to the bigram frequency rather than random."
   ]
  },
  {
   "cell_type": "code",
   "execution_count": 64,
   "metadata": {},
   "outputs": [
    {
     "data": {
      "text/html": [
       "'. . trump card was just happen right direction. put out of the women and shout out so annoying you feel even the cards . i hope you think won t have already doesn\\'t know his roots .'"
      ],
      "text/latex": [
       "'. . trump card was just happen right direction. put out of the women and shout out so annoying you feel even the cards . i hope you think won t have already doesn\\textbackslash{}'t know his roots .'"
      ],
      "text/markdown": [
       "'. . trump card was just happen right direction. put out of the women and shout out so annoying you feel even the cards . i hope you think won t have already doesn\\'t know his roots .'"
      ],
      "text/plain": [
       "[1] \". . trump card was just happen right direction. put out of the women and shout out so annoying you feel even the cards . i hope you think won t have already doesn't know his roots .\""
      ]
     },
     "metadata": {},
     "output_type": "display_data"
    }
   ],
   "source": [
    "set.seed(1)\n",
    "# trump v2, unigram model, sample using transition probabilities\n",
    "\n",
    "# start at the end of a sentence (so next word is a start word)\n",
    "current <- \".\"\n",
    "result <- \".\"\n",
    "keep_going <- TRUE\n",
    "while(keep_going == TRUE){\n",
    "  \n",
    "    # get next word\n",
    "    next_word <- transitions %>% \n",
    "    filter(word == as.character(current)) %>% \n",
    "    sample_n(1, weight = n) %>% # proportional to count\n",
    "    select(next_word)\n",
    "  \n",
    "    # combine with result so far\n",
    "    result <- str_c(result,\" \", next_word)\n",
    "    current <- next_word\n",
    "  \n",
    "  # does the current word appear in the 'word' column?\n",
    "  n_current <- sum(transitions$word == as.character(current))\n",
    "  \n",
    "  # keep going if can look up current word and tweet is < 140 or current word is not .\n",
    "  keep_going <- ifelse(n_current == 0, FALSE,\n",
    "                       ifelse(nchar(result) < 140, TRUE, \n",
    "                              ifelse(str_detect(current,\"\\\\.\"), FALSE, TRUE)))\n",
    "  \n",
    "}\n",
    "result"
   ]
  },
  {
   "cell_type": "markdown",
   "metadata": {},
   "source": [
    "Its hard to tell, but from a few runs it looks a little bit better but still not great. Let's see if we do any better if we look at transitions between bigrams rather than between words. As for the unigram model, we first need to add full stops, and then count how many times each transition (now between pairs of *bigrams*) occurs."
   ]
  },
  {
   "cell_type": "code",
   "execution_count": 66,
   "metadata": {},
   "outputs": [
    {
     "data": {
      "text/html": [
       "<table>\n",
       "<thead><tr><th scope=col>id_str</th><th scope=col>date</th><th scope=col>bigram</th><th scope=col>next_bigram</th></tr></thead>\n",
       "<tbody>\n",
       "\t<tr><td>260850671576829952 </td><td>2012-10-23 21:10:21</td><td>this is            </td><td>not a              </td></tr>\n",
       "\t<tr><td>260850671576829952 </td><td>2012-10-23 21:10:21</td><td>is not             </td><td>a media            </td></tr>\n",
       "\t<tr><td>260850671576829952 </td><td>2012-10-23 21:10:21</td><td>not a              </td><td>media event        </td></tr>\n",
       "</tbody>\n",
       "</table>\n"
      ],
      "text/latex": [
       "\\begin{tabular}{r|llll}\n",
       " id\\_str & date & bigram & next\\_bigram\\\\\n",
       "\\hline\n",
       "\t 260850671576829952  & 2012-10-23 21:10:21 & this is             & not a              \\\\\n",
       "\t 260850671576829952  & 2012-10-23 21:10:21 & is not              & a media            \\\\\n",
       "\t 260850671576829952  & 2012-10-23 21:10:21 & not a               & media event        \\\\\n",
       "\\end{tabular}\n"
      ],
      "text/markdown": [
       "\n",
       "id_str | date | bigram | next_bigram | \n",
       "|---|---|---|\n",
       "| 260850671576829952  | 2012-10-23 21:10:21 | this is             | not a               | \n",
       "| 260850671576829952  | 2012-10-23 21:10:21 | is not              | a media             | \n",
       "| 260850671576829952  | 2012-10-23 21:10:21 | not a               | media event         | \n",
       "\n",
       "\n"
      ],
      "text/plain": [
       "  id_str             date                bigram  next_bigram\n",
       "1 260850671576829952 2012-10-23 21:10:21 this is not a      \n",
       "2 260850671576829952 2012-10-23 21:10:21 is not  a media    \n",
       "3 260850671576829952 2012-10-23 21:10:21 not a   media event"
      ]
     },
     "metadata": {},
     "output_type": "display_data"
    }
   ],
   "source": [
    "# we've already lagged unigrams with full stops before, use these to create lagged bigrams\n",
    "bigrams_wstop <- tidy_tweets_wstop %>% \n",
    "    filter(!is.na(word)) %>% # don't want to unite with NAs\n",
    "    filter(!is.na(next_word)) %>%\n",
    "    unite(bigram, word, next_word, sep = \" \") %>%\n",
    "    mutate(next_bigram = lead(bigram,2)) \n",
    "bigrams_wstop %>% head(3)"
   ]
  },
  {
   "cell_type": "markdown",
   "metadata": {},
   "source": [
    "We now calculate the frequency count for each *bigram*-to-*next_bigram* transition. We first remove any rows where either *bigram* or *next_bigram* is missing. "
   ]
  },
  {
   "cell_type": "code",
   "execution_count": 69,
   "metadata": {},
   "outputs": [
    {
     "data": {
      "text/html": [
       "<table>\n",
       "<thead><tr><th scope=col>bigram</th><th scope=col>next_bigram</th><th scope=col>n</th></tr></thead>\n",
       "<tbody>\n",
       "\t<tr><td>make america </td><td>great again  </td><td>380          </td></tr>\n",
       "\t<tr><td>art of       </td><td>the deal     </td><td>136          </td></tr>\n",
       "\t<tr><td>the art      </td><td>of the       </td><td>130          </td></tr>\n",
       "\t<tr><td>please run   </td><td>for president</td><td>100          </td></tr>\n",
       "\t<tr><td>think like   </td><td>a champion   </td><td> 89          </td></tr>\n",
       "</tbody>\n",
       "</table>\n"
      ],
      "text/latex": [
       "\\begin{tabular}{r|lll}\n",
       " bigram & next\\_bigram & n\\\\\n",
       "\\hline\n",
       "\t make america  & great again   & 380          \\\\\n",
       "\t art of        & the deal      & 136          \\\\\n",
       "\t the art       & of the        & 130          \\\\\n",
       "\t please run    & for president & 100          \\\\\n",
       "\t think like    & a champion    &  89          \\\\\n",
       "\\end{tabular}\n"
      ],
      "text/markdown": [
       "\n",
       "bigram | next_bigram | n | \n",
       "|---|---|---|---|---|\n",
       "| make america  | great again   | 380           | \n",
       "| art of        | the deal      | 136           | \n",
       "| the art       | of the        | 130           | \n",
       "| please run    | for president | 100           | \n",
       "| think like    | a champion    |  89           | \n",
       "\n",
       "\n"
      ],
      "text/plain": [
       "  bigram       next_bigram   n  \n",
       "1 make america great again   380\n",
       "2 art of       the deal      136\n",
       "3 the art      of the        130\n",
       "4 please run   for president 100\n",
       "5 think like   a champion     89"
      ]
     },
     "metadata": {},
     "output_type": "display_data"
    }
   ],
   "source": [
    "# transition matrix\n",
    "bigram_transitions <- bigrams_wstop %>%\n",
    "    filter(!is.na(bigram)) %>% \n",
    "    filter(!is.na(next_bigram)) %>%\n",
    "    group_by(bigram,next_bigram) %>%\n",
    "    count() %>% \n",
    "    ungroup() # remember to ungroup else later steps are slow!\n",
    "bigram_transitions %>% arrange(desc(n)) %>% head(5)"
   ]
  },
  {
   "cell_type": "markdown",
   "metadata": {},
   "source": [
    "In the bigram model, a full stop is one \"word\" in a bigram. So we can't start with *only* a full stop, like we did before. The approach we'll take is to randomly select one of the bigrams Trump has used."
   ]
  },
  {
   "cell_type": "code",
   "execution_count": 70,
   "metadata": {},
   "outputs": [
    {
     "data": {
      "text/html": [
       "'@keatsben @realdonaldtrump'"
      ],
      "text/latex": [
       "'@keatsben @realdonaldtrump'"
      ],
      "text/markdown": [
       "'@keatsben @realdonaldtrump'"
      ],
      "text/plain": [
       "[1] \"@keatsben @realdonaldtrump\""
      ]
     },
     "metadata": {},
     "output_type": "display_data"
    }
   ],
   "source": [
    "set.seed(6)\n",
    "\n",
    "# extract all starting rows\n",
    "start_bigrams <- bigrams_wstop %>%\n",
    "    group_by(id_str) %>%\n",
    "    slice(1) %>%    # takes the first row from each tweet\n",
    "    ungroup()\n",
    "\n",
    "# choose one starting bigram\n",
    "current <- start_bigrams %>%\n",
    "  sample_n(1) %>% \n",
    "  select(bigram) %>% \n",
    "  as.character()\n",
    "\n",
    "current"
   ]
  },
  {
   "cell_type": "markdown",
   "metadata": {},
   "source": [
    "Finally we can put everything together to generate a tweet using the bigram model we just created."
   ]
  },
  {
   "cell_type": "code",
   "execution_count": 42,
   "metadata": {},
   "outputs": [
    {
     "data": {
      "text/html": [
       "'@keatsben @realdonaldtrump #celebrityapprentice is only reality show worth my time . i wish he came to me for 1 000 loan into 10 billion but vast amount of trump towers in pune very soon recently finished shooting and it is very late'"
      ],
      "text/latex": [
       "'@keatsben @realdonaldtrump \\#celebrityapprentice is only reality show worth my time . i wish he came to me for 1 000 loan into 10 billion but vast amount of trump towers in pune very soon recently finished shooting and it is very late'"
      ],
      "text/markdown": [
       "'@keatsben @realdonaldtrump #celebrityapprentice is only reality show worth my time . i wish he came to me for 1 000 loan into 10 billion but vast amount of trump towers in pune very soon recently finished shooting and it is very late'"
      ],
      "text/plain": [
       "[1] \"@keatsben @realdonaldtrump #celebrityapprentice is only reality show worth my time . i wish he came to me for 1 000 loan into 10 billion but vast amount of trump towers in pune very soon recently finished shooting and it is very late\""
      ]
     },
     "metadata": {},
     "output_type": "display_data"
    }
   ],
   "source": [
    "# trump v3, bigram model, sample using transition probabilities\n",
    "\n",
    "# start with starting bigram previously generated\n",
    "result <- current\n",
    "keep_going <- TRUE\n",
    "while(keep_going == TRUE){\n",
    "  \n",
    "    # get next bigram\n",
    "    next_bigram <- bigram_transitions %>% \n",
    "    filter(bigram == as.character(current)) %>% \n",
    "    sample_n(1, weight = n) %>% \n",
    "    select(next_bigram)\n",
    "\n",
    "    # combine with result so far\n",
    "    result <- str_c(result,\" \", next_bigram)\n",
    "    current <- next_bigram\n",
    "  \n",
    "    # does the current bigram appear in the bigram column?\n",
    "    n_current <- sum(bigram_transitions$bigram == as.character(current))\n",
    "  \n",
    "  # keep going if can look up current bigram and tweet is < 140 or current bigram\n",
    "  # does not contain a .\n",
    "  keep_going <- ifelse(n_current == 0, FALSE,\n",
    "                       ifelse(nchar(result) < 140, TRUE, \n",
    "                              ifelse(str_detect(current,\"\\\\.\"), FALSE, TRUE)))\n",
    "}\n",
    "result"
   ]
  },
  {
   "cell_type": "markdown",
   "metadata": {},
   "source": [
    "## Exercises\n"
   ]
  },
  {
   "cell_type": "markdown",
   "metadata": {},
   "source": [
    "1. Read Section 12.1 to 12.4 of [the R4DS chapter](http://r4ds.had.co.nz/tidy-data.html) on tidy data and do the relevant exercises, in particular the ones in the [\"Separating and Uniting\"](http://r4ds.had.co.nz/tidy-data.html#separating-and-uniting) and [\"Spreading and Gathering\"](http://r4ds.had.co.nz/tidy-data.html#spreading-and-gathering) sections.\n",
    "\n",
    "2. In this exercise we'll look at some frequency distributions in the book \"Siddhartha\" by Herman Hesse. We'll download the book from the [Project Gutenberg](https://www.gutenberg.org/) collection. The book we want has the Project Gutenberg ID \"2500\" (or pick another one you want to work with). To find the ID you need, either look on the Project Gutenberg site or, in R, we can make use of the **gutenbergr** package, which helps you download and process public domain books (see vignette [here](https://cran.r-project.org/web/packages/gutenbergr/vignettes/intro.html) for details).\n",
    "```\n",
    "library(gutenbergr)\n",
    "gutenberg_metadata %>% filter(title == \"Siddhartha\")\n",
    "```\n",
    "We can read in the text of the book using **rvest** and convert it to a data frame for use in **tidytext**. The *text* variable contains the downloaded text (the novel *and* some additional information about Project Gutenberg, visit the link http://www.gutenberg.org/cache/epub/2500/pg2500.txt to see what is downloaded.\n",
    "```\n",
    "library(rvest)\n",
    "sidd <- read_html(\"http://www.gutenberg.org/cache/epub/2500/pg2500.txt\")\n",
    "sidd_tidy <- data.frame(id = 1, text = html_text(html_nodes(sidd, css=\"body\")))\n",
    "```\n",
    "Use `unnest_tokens()` to plot a frequency distribution of words used in the novel. Arrange the histogram so that words appear from left to right in order of their frequency of occurence. What do you find? Word frequency distributions often follow the same form, see the section of TMR on [\"Zipf's law\"](http://tidytextmining.com/tfidf.html#zipfs-law) for details. \n",
    "3.  Using the same data as above, and a different call to `unnest_tokens()`, plot the distribution of sentence lengths in *Siddhartha*.\n",
    "4. How might you improve the tweet generator so that the sentences that it generates are not entirely independent  of one another?"
   ]
  }
 ],
 "metadata": {
  "kernelspec": {
   "display_name": "R",
   "language": "R",
   "name": "ir"
  },
  "language_info": {
   "codemirror_mode": "r",
   "file_extension": ".r",
   "mimetype": "text/x-r-source",
   "name": "R",
   "pygments_lexer": "r",
   "version": "3.3.3"
  }
 },
 "nbformat": 4,
 "nbformat_minor": 2
}
