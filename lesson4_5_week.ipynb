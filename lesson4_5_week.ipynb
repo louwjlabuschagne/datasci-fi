{
 "cells": [
  {
   "cell_type": "markdown",
   "metadata": {},
   "source": [
    "## This week's goals\n",
    "* Consolidate week 1 and 2\n",
    "* Go through notebooks 4 and 5\n",
    "\n",
    "## In Class\n",
    "* Work on recomender project\n",
    "* work on kaggle project\n",
    "* work on exercies: L4 (try 2,3), L5 (1,2,3)"
   ]
  },
  {
   "cell_type": "markdown",
   "metadata": {},
   "source": [
    "## Recomender Project\n",
    "* Hace a look at data\n",
    "    + decide what you want to do\n",
    "    + cleaning\n",
    "* Start small\n",
    "    + item/user-based, KNN, no extra data - consider different optimizer\n",
    "    + choose a subset of the data if need to - Filter users that only drink one type of wine;\n",
    "* Add more detail as you go:\n",
    "    + matix factorization - might need sparse matrix packages\n",
    "    + extra info on user can be included - like a bias term\n",
    "    + extra info on wine can be scraped\n",
    "    + neural networks\n",
    "* Don't ignore the write up\n",
    "    + should be proof of concept, so evaluate on validation set"
   ]
  },
  {
   "cell_type": "markdown",
   "metadata": {},
   "source": [
    "## Kaggle Problem\n",
    "+ Same Story\n",
    "+ Look at the data\n",
    "    * Decide what you want to do\n",
    "+ Start small\n",
    "+ Add more detail as you go\n",
    "+ Deide on what your skills are and what you want to learn\n",
    "    + Time series as Independent\n",
    "    + ?cluster of time series as multivariate time series\n",
    "    + Forecasting Individual time series\n",
    "    + Handling big dataset\n",
    "    + Doing kaggle problems"
   ]
  },
  {
   "cell_type": "markdown",
   "metadata": {},
   "source": [
    "## This week's lecture\n",
    "* Text Basics\n",
    "    + **Toeknization**\n",
    "        + unit of text is called token\n",
    "    + **Bigrams, n-grams**\n",
    "        + sequence of n-words\n",
    "* **Language Generation**\n",
    "    + word/next-word transition probablities\n",
    "        + look at matrix of tranisition probabilties, where the rows and columns are n-grams\n",
    "    + effect of n in n-grams\n",
    "* Sentiment analysis\n",
    "    + pre-existing lexicons for word\n",
    "        + lexicons = dictionaries\n",
    "    + database join with sentiment dictionaries and then aggregation\n",
    "    + negation"
   ]
  },
  {
   "cell_type": "code",
   "execution_count": null,
   "metadata": {
    "collapsed": true
   },
   "outputs": [],
   "source": []
  }
 ],
 "metadata": {
  "kernelspec": {
   "display_name": "R",
   "language": "R",
   "name": "ir"
  },
  "language_info": {
   "codemirror_mode": "r",
   "file_extension": ".r",
   "mimetype": "text/x-r-source",
   "name": "R",
   "pygments_lexer": "r",
   "version": "3.3.3"
  }
 },
 "nbformat": 4,
 "nbformat_minor": 2
}
